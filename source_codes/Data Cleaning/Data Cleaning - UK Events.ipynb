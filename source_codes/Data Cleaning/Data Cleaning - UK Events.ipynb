{
 "cells": [
  {
   "cell_type": "markdown",
   "metadata": {},
   "source": [
    "# Data Cleaning - ukEvents"
   ]
  },
  {
   "cell_type": "code",
   "execution_count": 21,
   "metadata": {},
   "outputs": [],
   "source": [
    "import pandas as pd\n",
    "ukEvents = pd.read_csv(\"Dirty data/ukEvents.csv\")"
   ]
  },
  {
   "cell_type": "code",
   "execution_count": 22,
   "metadata": {
    "scrolled": true
   },
   "outputs": [
    {
     "data": {
      "text/html": [
       "<div>\n",
       "<style scoped>\n",
       "    .dataframe tbody tr th:only-of-type {\n",
       "        vertical-align: middle;\n",
       "    }\n",
       "\n",
       "    .dataframe tbody tr th {\n",
       "        vertical-align: top;\n",
       "    }\n",
       "\n",
       "    .dataframe thead th {\n",
       "        text-align: right;\n",
       "    }\n",
       "</style>\n",
       "<table border=\"1\" class=\"dataframe\">\n",
       "  <thead>\n",
       "    <tr style=\"text-align: right;\">\n",
       "      <th></th>\n",
       "      <th>eventId</th>\n",
       "      <th>eventType</th>\n",
       "      <th>eventUri</th>\n",
       "      <th>ageRestriction</th>\n",
       "      <th>mbid</th>\n",
       "      <th>venueId</th>\n",
       "      <th>startDate</th>\n",
       "      <th>startTime</th>\n",
       "      <th>country</th>\n",
       "      <th>flaggedAsEnded</th>\n",
       "    </tr>\n",
       "  </thead>\n",
       "  <tbody>\n",
       "    <tr>\n",
       "      <td>0</td>\n",
       "      <td>36847829</td>\n",
       "      <td>Concert</td>\n",
       "      <td>http://www.songkick.com/concerts/36847829-demo...</td>\n",
       "      <td>NaN</td>\n",
       "      <td>df074f34-26fc-45fa-adf3-d19836dde2ec</td>\n",
       "      <td>1256546.0</td>\n",
       "      <td>30/06/2019</td>\n",
       "      <td>19:30:00</td>\n",
       "      <td>UK</td>\n",
       "      <td>True</td>\n",
       "    </tr>\n",
       "    <tr>\n",
       "      <td>1</td>\n",
       "      <td>36847829</td>\n",
       "      <td>Concert</td>\n",
       "      <td>http://www.songkick.com/concerts/36847829-demo...</td>\n",
       "      <td>NaN</td>\n",
       "      <td>b709e093-e90e-45e9-bedb-6fffa602b674</td>\n",
       "      <td>1256546.0</td>\n",
       "      <td>30/06/2019</td>\n",
       "      <td>19:30:00</td>\n",
       "      <td>UK</td>\n",
       "      <td>True</td>\n",
       "    </tr>\n",
       "    <tr>\n",
       "      <td>2</td>\n",
       "      <td>38968714</td>\n",
       "      <td>Concert</td>\n",
       "      <td>http://www.songkick.com/concerts/38968714-dend...</td>\n",
       "      <td>NaN</td>\n",
       "      <td>b709e093-e90e-45e9-bedb-6fffa602b674</td>\n",
       "      <td>2845858.0</td>\n",
       "      <td>05/10/2019</td>\n",
       "      <td>19:00:00</td>\n",
       "      <td>UK</td>\n",
       "      <td>True</td>\n",
       "    </tr>\n",
       "    <tr>\n",
       "      <td>3</td>\n",
       "      <td>38968714</td>\n",
       "      <td>Concert</td>\n",
       "      <td>http://www.songkick.com/concerts/38968714-dend...</td>\n",
       "      <td>NaN</td>\n",
       "      <td>86e7205f-c31a-4679-bdc4-4d6c8ea25cbb</td>\n",
       "      <td>2845858.0</td>\n",
       "      <td>05/10/2019</td>\n",
       "      <td>19:00:00</td>\n",
       "      <td>UK</td>\n",
       "      <td>True</td>\n",
       "    </tr>\n",
       "    <tr>\n",
       "      <td>4</td>\n",
       "      <td>39131439</td>\n",
       "      <td>Concert</td>\n",
       "      <td>http://www.songkick.com/concerts/39131439-prim...</td>\n",
       "      <td>NaN</td>\n",
       "      <td>86e7205f-c31a-4679-bdc4-4d6c8ea25cbb</td>\n",
       "      <td>52106.0</td>\n",
       "      <td>06/10/2019</td>\n",
       "      <td>19:00:00</td>\n",
       "      <td>UK</td>\n",
       "      <td>True</td>\n",
       "    </tr>\n",
       "    <tr>\n",
       "      <td>...</td>\n",
       "      <td>...</td>\n",
       "      <td>...</td>\n",
       "      <td>...</td>\n",
       "      <td>...</td>\n",
       "      <td>...</td>\n",
       "      <td>...</td>\n",
       "      <td>...</td>\n",
       "      <td>...</td>\n",
       "      <td>...</td>\n",
       "      <td>...</td>\n",
       "    </tr>\n",
       "    <tr>\n",
       "      <td>325857</td>\n",
       "      <td>37486754</td>\n",
       "      <td>Festival</td>\n",
       "      <td>http://www.songkick.com/festivals/275-creamfie...</td>\n",
       "      <td>NaN</td>\n",
       "      <td>c9073012-4547-4a72-8963-738d9f8503cc</td>\n",
       "      <td>16761.0</td>\n",
       "      <td>22/08/2019</td>\n",
       "      <td>NaN</td>\n",
       "      <td>UK</td>\n",
       "      <td>True</td>\n",
       "    </tr>\n",
       "    <tr>\n",
       "      <td>325858</td>\n",
       "      <td>37486754</td>\n",
       "      <td>Festival</td>\n",
       "      <td>http://www.songkick.com/festivals/275-creamfie...</td>\n",
       "      <td>NaN</td>\n",
       "      <td>233164a1-a581-44f7-adac-cfdae2eefb66</td>\n",
       "      <td>16761.0</td>\n",
       "      <td>22/08/2019</td>\n",
       "      <td>NaN</td>\n",
       "      <td>UK</td>\n",
       "      <td>True</td>\n",
       "    </tr>\n",
       "    <tr>\n",
       "      <td>325859</td>\n",
       "      <td>39114271</td>\n",
       "      <td>Concert</td>\n",
       "      <td>http://www.songkick.com/concerts/39114271-cedr...</td>\n",
       "      <td>NaN</td>\n",
       "      <td>c9073012-4547-4a72-8963-738d9f8503cc</td>\n",
       "      <td>3077059.0</td>\n",
       "      <td>27/09/2019</td>\n",
       "      <td>NaN</td>\n",
       "      <td>UK</td>\n",
       "      <td>True</td>\n",
       "    </tr>\n",
       "    <tr>\n",
       "      <td>325860</td>\n",
       "      <td>39114282</td>\n",
       "      <td>Concert</td>\n",
       "      <td>http://www.songkick.com/concerts/39114282-cedr...</td>\n",
       "      <td>NaN</td>\n",
       "      <td>c9073012-4547-4a72-8963-738d9f8503cc</td>\n",
       "      <td>2714808.0</td>\n",
       "      <td>28/09/2019</td>\n",
       "      <td>NaN</td>\n",
       "      <td>UK</td>\n",
       "      <td>True</td>\n",
       "    </tr>\n",
       "    <tr>\n",
       "      <td>325861</td>\n",
       "      <td>39114284</td>\n",
       "      <td>Concert</td>\n",
       "      <td>http://www.songkick.com/concerts/39114284-cedr...</td>\n",
       "      <td>NaN</td>\n",
       "      <td>c9073012-4547-4a72-8963-738d9f8503cc</td>\n",
       "      <td>3527984.0</td>\n",
       "      <td>28/09/2019</td>\n",
       "      <td>NaN</td>\n",
       "      <td>UK</td>\n",
       "      <td>True</td>\n",
       "    </tr>\n",
       "  </tbody>\n",
       "</table>\n",
       "<p>325862 rows × 10 columns</p>\n",
       "</div>"
      ],
      "text/plain": [
       "         eventId eventType                                           eventUri  \\\n",
       "0       36847829   Concert  http://www.songkick.com/concerts/36847829-demo...   \n",
       "1       36847829   Concert  http://www.songkick.com/concerts/36847829-demo...   \n",
       "2       38968714   Concert  http://www.songkick.com/concerts/38968714-dend...   \n",
       "3       38968714   Concert  http://www.songkick.com/concerts/38968714-dend...   \n",
       "4       39131439   Concert  http://www.songkick.com/concerts/39131439-prim...   \n",
       "...          ...       ...                                                ...   \n",
       "325857  37486754  Festival  http://www.songkick.com/festivals/275-creamfie...   \n",
       "325858  37486754  Festival  http://www.songkick.com/festivals/275-creamfie...   \n",
       "325859  39114271   Concert  http://www.songkick.com/concerts/39114271-cedr...   \n",
       "325860  39114282   Concert  http://www.songkick.com/concerts/39114282-cedr...   \n",
       "325861  39114284   Concert  http://www.songkick.com/concerts/39114284-cedr...   \n",
       "\n",
       "       ageRestriction                                  mbid    venueId  \\\n",
       "0                 NaN  df074f34-26fc-45fa-adf3-d19836dde2ec  1256546.0   \n",
       "1                 NaN  b709e093-e90e-45e9-bedb-6fffa602b674  1256546.0   \n",
       "2                 NaN  b709e093-e90e-45e9-bedb-6fffa602b674  2845858.0   \n",
       "3                 NaN  86e7205f-c31a-4679-bdc4-4d6c8ea25cbb  2845858.0   \n",
       "4                 NaN  86e7205f-c31a-4679-bdc4-4d6c8ea25cbb    52106.0   \n",
       "...               ...                                   ...        ...   \n",
       "325857            NaN  c9073012-4547-4a72-8963-738d9f8503cc    16761.0   \n",
       "325858            NaN  233164a1-a581-44f7-adac-cfdae2eefb66    16761.0   \n",
       "325859            NaN  c9073012-4547-4a72-8963-738d9f8503cc  3077059.0   \n",
       "325860            NaN  c9073012-4547-4a72-8963-738d9f8503cc  2714808.0   \n",
       "325861            NaN  c9073012-4547-4a72-8963-738d9f8503cc  3527984.0   \n",
       "\n",
       "         startDate startTime country  flaggedAsEnded  \n",
       "0       30/06/2019  19:30:00      UK            True  \n",
       "1       30/06/2019  19:30:00      UK            True  \n",
       "2       05/10/2019  19:00:00      UK            True  \n",
       "3       05/10/2019  19:00:00      UK            True  \n",
       "4       06/10/2019  19:00:00      UK            True  \n",
       "...            ...       ...     ...             ...  \n",
       "325857  22/08/2019       NaN      UK            True  \n",
       "325858  22/08/2019       NaN      UK            True  \n",
       "325859  27/09/2019       NaN      UK            True  \n",
       "325860  28/09/2019       NaN      UK            True  \n",
       "325861  28/09/2019       NaN      UK            True  \n",
       "\n",
       "[325862 rows x 10 columns]"
      ]
     },
     "execution_count": 22,
     "metadata": {},
     "output_type": "execute_result"
    }
   ],
   "source": [
    "ukEvents"
   ]
  },
  {
   "cell_type": "code",
   "execution_count": 23,
   "metadata": {},
   "outputs": [
    {
     "data": {
      "text/plain": [
       "eventId           325862\n",
       "eventType         325862\n",
       "eventUri          325862\n",
       "ageRestriction     15753\n",
       "mbid              325862\n",
       "venueId           287953\n",
       "startDate         325862\n",
       "startTime         166333\n",
       "country           325862\n",
       "flaggedAsEnded    325862\n",
       "dtype: int64"
      ]
     },
     "execution_count": 23,
     "metadata": {},
     "output_type": "execute_result"
    }
   ],
   "source": [
    "ukEvents.count()"
   ]
  },
  {
   "cell_type": "code",
   "execution_count": 24,
   "metadata": {},
   "outputs": [
    {
     "data": {
      "text/plain": [
       "0         NaN\n",
       "1         NaN\n",
       "2         NaN\n",
       "3         NaN\n",
       "4         NaN\n",
       "         ... \n",
       "325857    NaN\n",
       "325858    NaN\n",
       "325859    NaN\n",
       "325860    NaN\n",
       "325861    NaN\n",
       "Name: ageRestriction, Length: 325862, dtype: object"
      ]
     },
     "execution_count": 24,
     "metadata": {},
     "output_type": "execute_result"
    }
   ],
   "source": [
    "ukEvents.ageRestriction"
   ]
  },
  {
   "cell_type": "code",
   "execution_count": 25,
   "metadata": {},
   "outputs": [],
   "source": [
    "ukEvents.ageRestriction.fillna('No Age Restriction', inplace = True)"
   ]
  },
  {
   "cell_type": "code",
   "execution_count": 26,
   "metadata": {},
   "outputs": [
    {
     "data": {
      "text/plain": [
       "0         No Age Restriction\n",
       "1         No Age Restriction\n",
       "2         No Age Restriction\n",
       "3         No Age Restriction\n",
       "4         No Age Restriction\n",
       "                 ...        \n",
       "325857    No Age Restriction\n",
       "325858    No Age Restriction\n",
       "325859    No Age Restriction\n",
       "325860    No Age Restriction\n",
       "325861    No Age Restriction\n",
       "Name: ageRestriction, Length: 325862, dtype: object"
      ]
     },
     "execution_count": 26,
     "metadata": {},
     "output_type": "execute_result"
    }
   ],
   "source": [
    "ukEvents.ageRestriction"
   ]
  },
  {
   "cell_type": "code",
   "execution_count": 27,
   "metadata": {},
   "outputs": [
    {
     "data": {
      "text/plain": [
       "eventId           325862\n",
       "eventType         325862\n",
       "eventUri          325862\n",
       "ageRestriction    325862\n",
       "mbid              325862\n",
       "venueId           287953\n",
       "startDate         325862\n",
       "startTime         166333\n",
       "country           325862\n",
       "flaggedAsEnded    325862\n",
       "dtype: int64"
      ]
     },
     "execution_count": 27,
     "metadata": {},
     "output_type": "execute_result"
    }
   ],
   "source": [
    "ukEvents.count()"
   ]
  },
  {
   "cell_type": "code",
   "execution_count": 28,
   "metadata": {},
   "outputs": [
    {
     "data": {
      "text/plain": [
       "0         1256546.0\n",
       "1         1256546.0\n",
       "2         2845858.0\n",
       "3         2845858.0\n",
       "4           52106.0\n",
       "            ...    \n",
       "325857      16761.0\n",
       "325858      16761.0\n",
       "325859    3077059.0\n",
       "325860    2714808.0\n",
       "325861    3527984.0\n",
       "Name: venueId, Length: 325862, dtype: float64"
      ]
     },
     "execution_count": 28,
     "metadata": {},
     "output_type": "execute_result"
    }
   ],
   "source": [
    "ukEvents.venueId"
   ]
  },
  {
   "cell_type": "code",
   "execution_count": 29,
   "metadata": {},
   "outputs": [],
   "source": [
    "ukEvents.venueId.fillna('01234567', inplace = True)"
   ]
  },
  {
   "cell_type": "code",
   "execution_count": 30,
   "metadata": {},
   "outputs": [
    {
     "data": {
      "text/plain": [
       "0         1.25655e+06\n",
       "1         1.25655e+06\n",
       "2         2.84586e+06\n",
       "3         2.84586e+06\n",
       "4               52106\n",
       "             ...     \n",
       "325857          16761\n",
       "325858          16761\n",
       "325859    3.07706e+06\n",
       "325860    2.71481e+06\n",
       "325861    3.52798e+06\n",
       "Name: venueId, Length: 325862, dtype: object"
      ]
     },
     "execution_count": 30,
     "metadata": {},
     "output_type": "execute_result"
    }
   ],
   "source": [
    "ukEvents.venueId"
   ]
  },
  {
   "cell_type": "code",
   "execution_count": 31,
   "metadata": {},
   "outputs": [
    {
     "data": {
      "text/plain": [
       "eventId           325862\n",
       "eventType         325862\n",
       "eventUri          325862\n",
       "ageRestriction    325862\n",
       "mbid              325862\n",
       "venueId           325862\n",
       "startDate         325862\n",
       "startTime         166333\n",
       "country           325862\n",
       "flaggedAsEnded    325862\n",
       "dtype: int64"
      ]
     },
     "execution_count": 31,
     "metadata": {},
     "output_type": "execute_result"
    }
   ],
   "source": [
    "ukEvents.count()"
   ]
  },
  {
   "cell_type": "code",
   "execution_count": 32,
   "metadata": {},
   "outputs": [
    {
     "data": {
      "text/plain": [
       "0         19:30:00\n",
       "1         19:30:00\n",
       "2         19:00:00\n",
       "3         19:00:00\n",
       "4         19:00:00\n",
       "            ...   \n",
       "325857         NaN\n",
       "325858         NaN\n",
       "325859         NaN\n",
       "325860         NaN\n",
       "325861         NaN\n",
       "Name: startTime, Length: 325862, dtype: object"
      ]
     },
     "execution_count": 32,
     "metadata": {},
     "output_type": "execute_result"
    }
   ],
   "source": [
    "ukEvents.startTime"
   ]
  },
  {
   "cell_type": "code",
   "execution_count": 33,
   "metadata": {},
   "outputs": [],
   "source": [
    "ukEvents.startTime.fillna('00:00:00', inplace = True)"
   ]
  },
  {
   "cell_type": "code",
   "execution_count": 34,
   "metadata": {},
   "outputs": [
    {
     "data": {
      "text/plain": [
       "0         19:30:00\n",
       "1         19:30:00\n",
       "2         19:00:00\n",
       "3         19:00:00\n",
       "4         19:00:00\n",
       "            ...   \n",
       "325857    00:00:00\n",
       "325858    00:00:00\n",
       "325859    00:00:00\n",
       "325860    00:00:00\n",
       "325861    00:00:00\n",
       "Name: startTime, Length: 325862, dtype: object"
      ]
     },
     "execution_count": 34,
     "metadata": {},
     "output_type": "execute_result"
    }
   ],
   "source": [
    "ukEvents.startTime"
   ]
  },
  {
   "cell_type": "code",
   "execution_count": 35,
   "metadata": {},
   "outputs": [
    {
     "data": {
      "text/plain": [
       "eventId           325862\n",
       "eventType         325862\n",
       "eventUri          325862\n",
       "ageRestriction    325862\n",
       "mbid              325862\n",
       "venueId           325862\n",
       "startDate         325862\n",
       "startTime         325862\n",
       "country           325862\n",
       "flaggedAsEnded    325862\n",
       "dtype: int64"
      ]
     },
     "execution_count": 35,
     "metadata": {},
     "output_type": "execute_result"
    }
   ],
   "source": [
    "ukEvents.count()"
   ]
  },
  {
   "cell_type": "code",
   "execution_count": 36,
   "metadata": {},
   "outputs": [
    {
     "data": {
      "text/html": [
       "<div>\n",
       "<style scoped>\n",
       "    .dataframe tbody tr th:only-of-type {\n",
       "        vertical-align: middle;\n",
       "    }\n",
       "\n",
       "    .dataframe tbody tr th {\n",
       "        vertical-align: top;\n",
       "    }\n",
       "\n",
       "    .dataframe thead th {\n",
       "        text-align: right;\n",
       "    }\n",
       "</style>\n",
       "<table border=\"1\" class=\"dataframe\">\n",
       "  <thead>\n",
       "    <tr style=\"text-align: right;\">\n",
       "      <th></th>\n",
       "      <th>eventId</th>\n",
       "      <th>eventType</th>\n",
       "      <th>eventUri</th>\n",
       "      <th>ageRestriction</th>\n",
       "      <th>mbid</th>\n",
       "      <th>venueId</th>\n",
       "      <th>startDate</th>\n",
       "      <th>startTime</th>\n",
       "      <th>country</th>\n",
       "      <th>flaggedAsEnded</th>\n",
       "    </tr>\n",
       "  </thead>\n",
       "  <tbody>\n",
       "    <tr>\n",
       "      <td>0</td>\n",
       "      <td>36847829</td>\n",
       "      <td>Concert</td>\n",
       "      <td>http://www.songkick.com/concerts/36847829-demo...</td>\n",
       "      <td>No Age Restriction</td>\n",
       "      <td>df074f34-26fc-45fa-adf3-d19836dde2ec</td>\n",
       "      <td>1.25655e+06</td>\n",
       "      <td>30/06/2019</td>\n",
       "      <td>19:30:00</td>\n",
       "      <td>UK</td>\n",
       "      <td>True</td>\n",
       "    </tr>\n",
       "    <tr>\n",
       "      <td>1</td>\n",
       "      <td>36847829</td>\n",
       "      <td>Concert</td>\n",
       "      <td>http://www.songkick.com/concerts/36847829-demo...</td>\n",
       "      <td>No Age Restriction</td>\n",
       "      <td>b709e093-e90e-45e9-bedb-6fffa602b674</td>\n",
       "      <td>1.25655e+06</td>\n",
       "      <td>30/06/2019</td>\n",
       "      <td>19:30:00</td>\n",
       "      <td>UK</td>\n",
       "      <td>True</td>\n",
       "    </tr>\n",
       "    <tr>\n",
       "      <td>2</td>\n",
       "      <td>38968714</td>\n",
       "      <td>Concert</td>\n",
       "      <td>http://www.songkick.com/concerts/38968714-dend...</td>\n",
       "      <td>No Age Restriction</td>\n",
       "      <td>b709e093-e90e-45e9-bedb-6fffa602b674</td>\n",
       "      <td>2.84586e+06</td>\n",
       "      <td>05/10/2019</td>\n",
       "      <td>19:00:00</td>\n",
       "      <td>UK</td>\n",
       "      <td>True</td>\n",
       "    </tr>\n",
       "    <tr>\n",
       "      <td>3</td>\n",
       "      <td>38968714</td>\n",
       "      <td>Concert</td>\n",
       "      <td>http://www.songkick.com/concerts/38968714-dend...</td>\n",
       "      <td>No Age Restriction</td>\n",
       "      <td>86e7205f-c31a-4679-bdc4-4d6c8ea25cbb</td>\n",
       "      <td>2.84586e+06</td>\n",
       "      <td>05/10/2019</td>\n",
       "      <td>19:00:00</td>\n",
       "      <td>UK</td>\n",
       "      <td>True</td>\n",
       "    </tr>\n",
       "    <tr>\n",
       "      <td>4</td>\n",
       "      <td>39131439</td>\n",
       "      <td>Concert</td>\n",
       "      <td>http://www.songkick.com/concerts/39131439-prim...</td>\n",
       "      <td>No Age Restriction</td>\n",
       "      <td>86e7205f-c31a-4679-bdc4-4d6c8ea25cbb</td>\n",
       "      <td>52106</td>\n",
       "      <td>06/10/2019</td>\n",
       "      <td>19:00:00</td>\n",
       "      <td>UK</td>\n",
       "      <td>True</td>\n",
       "    </tr>\n",
       "    <tr>\n",
       "      <td>...</td>\n",
       "      <td>...</td>\n",
       "      <td>...</td>\n",
       "      <td>...</td>\n",
       "      <td>...</td>\n",
       "      <td>...</td>\n",
       "      <td>...</td>\n",
       "      <td>...</td>\n",
       "      <td>...</td>\n",
       "      <td>...</td>\n",
       "      <td>...</td>\n",
       "    </tr>\n",
       "    <tr>\n",
       "      <td>325857</td>\n",
       "      <td>37486754</td>\n",
       "      <td>Festival</td>\n",
       "      <td>http://www.songkick.com/festivals/275-creamfie...</td>\n",
       "      <td>No Age Restriction</td>\n",
       "      <td>c9073012-4547-4a72-8963-738d9f8503cc</td>\n",
       "      <td>16761</td>\n",
       "      <td>22/08/2019</td>\n",
       "      <td>00:00:00</td>\n",
       "      <td>UK</td>\n",
       "      <td>True</td>\n",
       "    </tr>\n",
       "    <tr>\n",
       "      <td>325858</td>\n",
       "      <td>37486754</td>\n",
       "      <td>Festival</td>\n",
       "      <td>http://www.songkick.com/festivals/275-creamfie...</td>\n",
       "      <td>No Age Restriction</td>\n",
       "      <td>233164a1-a581-44f7-adac-cfdae2eefb66</td>\n",
       "      <td>16761</td>\n",
       "      <td>22/08/2019</td>\n",
       "      <td>00:00:00</td>\n",
       "      <td>UK</td>\n",
       "      <td>True</td>\n",
       "    </tr>\n",
       "    <tr>\n",
       "      <td>325859</td>\n",
       "      <td>39114271</td>\n",
       "      <td>Concert</td>\n",
       "      <td>http://www.songkick.com/concerts/39114271-cedr...</td>\n",
       "      <td>No Age Restriction</td>\n",
       "      <td>c9073012-4547-4a72-8963-738d9f8503cc</td>\n",
       "      <td>3.07706e+06</td>\n",
       "      <td>27/09/2019</td>\n",
       "      <td>00:00:00</td>\n",
       "      <td>UK</td>\n",
       "      <td>True</td>\n",
       "    </tr>\n",
       "    <tr>\n",
       "      <td>325860</td>\n",
       "      <td>39114282</td>\n",
       "      <td>Concert</td>\n",
       "      <td>http://www.songkick.com/concerts/39114282-cedr...</td>\n",
       "      <td>No Age Restriction</td>\n",
       "      <td>c9073012-4547-4a72-8963-738d9f8503cc</td>\n",
       "      <td>2.71481e+06</td>\n",
       "      <td>28/09/2019</td>\n",
       "      <td>00:00:00</td>\n",
       "      <td>UK</td>\n",
       "      <td>True</td>\n",
       "    </tr>\n",
       "    <tr>\n",
       "      <td>325861</td>\n",
       "      <td>39114284</td>\n",
       "      <td>Concert</td>\n",
       "      <td>http://www.songkick.com/concerts/39114284-cedr...</td>\n",
       "      <td>No Age Restriction</td>\n",
       "      <td>c9073012-4547-4a72-8963-738d9f8503cc</td>\n",
       "      <td>3.52798e+06</td>\n",
       "      <td>28/09/2019</td>\n",
       "      <td>00:00:00</td>\n",
       "      <td>UK</td>\n",
       "      <td>True</td>\n",
       "    </tr>\n",
       "  </tbody>\n",
       "</table>\n",
       "<p>325862 rows × 10 columns</p>\n",
       "</div>"
      ],
      "text/plain": [
       "         eventId eventType                                           eventUri  \\\n",
       "0       36847829   Concert  http://www.songkick.com/concerts/36847829-demo...   \n",
       "1       36847829   Concert  http://www.songkick.com/concerts/36847829-demo...   \n",
       "2       38968714   Concert  http://www.songkick.com/concerts/38968714-dend...   \n",
       "3       38968714   Concert  http://www.songkick.com/concerts/38968714-dend...   \n",
       "4       39131439   Concert  http://www.songkick.com/concerts/39131439-prim...   \n",
       "...          ...       ...                                                ...   \n",
       "325857  37486754  Festival  http://www.songkick.com/festivals/275-creamfie...   \n",
       "325858  37486754  Festival  http://www.songkick.com/festivals/275-creamfie...   \n",
       "325859  39114271   Concert  http://www.songkick.com/concerts/39114271-cedr...   \n",
       "325860  39114282   Concert  http://www.songkick.com/concerts/39114282-cedr...   \n",
       "325861  39114284   Concert  http://www.songkick.com/concerts/39114284-cedr...   \n",
       "\n",
       "            ageRestriction                                  mbid      venueId  \\\n",
       "0       No Age Restriction  df074f34-26fc-45fa-adf3-d19836dde2ec  1.25655e+06   \n",
       "1       No Age Restriction  b709e093-e90e-45e9-bedb-6fffa602b674  1.25655e+06   \n",
       "2       No Age Restriction  b709e093-e90e-45e9-bedb-6fffa602b674  2.84586e+06   \n",
       "3       No Age Restriction  86e7205f-c31a-4679-bdc4-4d6c8ea25cbb  2.84586e+06   \n",
       "4       No Age Restriction  86e7205f-c31a-4679-bdc4-4d6c8ea25cbb        52106   \n",
       "...                    ...                                   ...          ...   \n",
       "325857  No Age Restriction  c9073012-4547-4a72-8963-738d9f8503cc        16761   \n",
       "325858  No Age Restriction  233164a1-a581-44f7-adac-cfdae2eefb66        16761   \n",
       "325859  No Age Restriction  c9073012-4547-4a72-8963-738d9f8503cc  3.07706e+06   \n",
       "325860  No Age Restriction  c9073012-4547-4a72-8963-738d9f8503cc  2.71481e+06   \n",
       "325861  No Age Restriction  c9073012-4547-4a72-8963-738d9f8503cc  3.52798e+06   \n",
       "\n",
       "         startDate startTime country  flaggedAsEnded  \n",
       "0       30/06/2019  19:30:00      UK            True  \n",
       "1       30/06/2019  19:30:00      UK            True  \n",
       "2       05/10/2019  19:00:00      UK            True  \n",
       "3       05/10/2019  19:00:00      UK            True  \n",
       "4       06/10/2019  19:00:00      UK            True  \n",
       "...            ...       ...     ...             ...  \n",
       "325857  22/08/2019  00:00:00      UK            True  \n",
       "325858  22/08/2019  00:00:00      UK            True  \n",
       "325859  27/09/2019  00:00:00      UK            True  \n",
       "325860  28/09/2019  00:00:00      UK            True  \n",
       "325861  28/09/2019  00:00:00      UK            True  \n",
       "\n",
       "[325862 rows x 10 columns]"
      ]
     },
     "execution_count": 36,
     "metadata": {},
     "output_type": "execute_result"
    }
   ],
   "source": [
    "ukEvents"
   ]
  },
  {
   "cell_type": "code",
   "execution_count": 37,
   "metadata": {},
   "outputs": [],
   "source": [
    "ukEvents.to_csv('Clean data/ukEvents.csv', index=False)"
   ]
  }
 ],
 "metadata": {
  "kernelspec": {
   "display_name": "Python 3",
   "language": "python",
   "name": "python3"
  },
  "language_info": {
   "codemirror_mode": {
    "name": "ipython",
    "version": 3
   },
   "file_extension": ".py",
   "mimetype": "text/x-python",
   "name": "python",
   "nbconvert_exporter": "python",
   "pygments_lexer": "ipython3",
   "version": "3.7.4"
  }
 },
 "nbformat": 4,
 "nbformat_minor": 2
}
