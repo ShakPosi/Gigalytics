{
 "cells": [
  {
   "cell_type": "markdown",
   "metadata": {},
   "source": [
    "# Data Cleaning - ukVenues"
   ]
  },
  {
   "cell_type": "code",
   "execution_count": 89,
   "metadata": {},
   "outputs": [],
   "source": [
    "import pandas as pd\n",
    "ukVenues = pd.read_csv(\"Dirty data/ukVenues.csv\")"
   ]
  },
  {
   "cell_type": "code",
   "execution_count": 90,
   "metadata": {
    "scrolled": true
   },
   "outputs": [
    {
     "data": {
      "text/html": [
       "<div>\n",
       "<style scoped>\n",
       "    .dataframe tbody tr th:only-of-type {\n",
       "        vertical-align: middle;\n",
       "    }\n",
       "\n",
       "    .dataframe tbody tr th {\n",
       "        vertical-align: top;\n",
       "    }\n",
       "\n",
       "    .dataframe thead th {\n",
       "        text-align: right;\n",
       "    }\n",
       "</style>\n",
       "<table border=\"1\" class=\"dataframe\">\n",
       "  <thead>\n",
       "    <tr style=\"text-align: right;\">\n",
       "      <th></th>\n",
       "      <th>venueID</th>\n",
       "      <th>venueName</th>\n",
       "      <th>venueStreet</th>\n",
       "      <th>venuePostcode</th>\n",
       "      <th>venueCity</th>\n",
       "      <th>venueCountry</th>\n",
       "      <th>venueCapacity</th>\n",
       "      <th>venueWebsite</th>\n",
       "      <th>venuePhone</th>\n",
       "    </tr>\n",
       "  </thead>\n",
       "  <tbody>\n",
       "    <tr>\n",
       "      <td>0</td>\n",
       "      <td>1561</td>\n",
       "      <td>The Sugarmill</td>\n",
       "      <td>Brunswick Street</td>\n",
       "      <td>ST1 1DR</td>\n",
       "      <td>Stoke On Trent</td>\n",
       "      <td>UK</td>\n",
       "      <td>400.0</td>\n",
       "      <td>http://www.thesugarmill.co.uk/</td>\n",
       "      <td>01782 214991</td>\n",
       "    </tr>\n",
       "    <tr>\n",
       "      <td>1</td>\n",
       "      <td>1575</td>\n",
       "      <td>O2 Apollo Manchester</td>\n",
       "      <td>Stockport Road</td>\n",
       "      <td>M12 6AP</td>\n",
       "      <td>Manchester</td>\n",
       "      <td>UK</td>\n",
       "      <td>3500.0</td>\n",
       "      <td>http://www.o2apollomanchester.co.uk/</td>\n",
       "      <td>0161 273 6921</td>\n",
       "    </tr>\n",
       "    <tr>\n",
       "      <td>2</td>\n",
       "      <td>1576</td>\n",
       "      <td>Bramham Park</td>\n",
       "      <td>Bramham Park</td>\n",
       "      <td>LS23 6ND</td>\n",
       "      <td>Wetherby</td>\n",
       "      <td>UK</td>\n",
       "      <td>90000.0</td>\n",
       "      <td>http://www.bramhampark.co.uk</td>\n",
       "      <td>NaN</td>\n",
       "    </tr>\n",
       "    <tr>\n",
       "      <td>3</td>\n",
       "      <td>1584</td>\n",
       "      <td>The Yorkshire House</td>\n",
       "      <td>2 Parliament Street</td>\n",
       "      <td>LA1 1DB</td>\n",
       "      <td>Lancaster</td>\n",
       "      <td>UK</td>\n",
       "      <td>NaN</td>\n",
       "      <td>NaN</td>\n",
       "      <td>NaN</td>\n",
       "    </tr>\n",
       "    <tr>\n",
       "      <td>4</td>\n",
       "      <td>1602</td>\n",
       "      <td>South</td>\n",
       "      <td>4a King Street  Deansgate</td>\n",
       "      <td>M2 6DQ</td>\n",
       "      <td>Manchester</td>\n",
       "      <td>UK</td>\n",
       "      <td>NaN</td>\n",
       "      <td>NaN</td>\n",
       "      <td>NaN</td>\n",
       "    </tr>\n",
       "    <tr>\n",
       "      <td>...</td>\n",
       "      <td>...</td>\n",
       "      <td>...</td>\n",
       "      <td>...</td>\n",
       "      <td>...</td>\n",
       "      <td>...</td>\n",
       "      <td>...</td>\n",
       "      <td>...</td>\n",
       "      <td>...</td>\n",
       "      <td>...</td>\n",
       "    </tr>\n",
       "    <tr>\n",
       "      <td>5676</td>\n",
       "      <td>4376272</td>\n",
       "      <td>Watling Street Beer</td>\n",
       "      <td>Tariff Road</td>\n",
       "      <td>N17 0EB</td>\n",
       "      <td>London</td>\n",
       "      <td>UK</td>\n",
       "      <td>NaN</td>\n",
       "      <td>https://www.watlingstreetbeer.com/</td>\n",
       "      <td>07713 841936</td>\n",
       "    </tr>\n",
       "    <tr>\n",
       "      <td>5677</td>\n",
       "      <td>4376336</td>\n",
       "      <td>Almondsbury Creative</td>\n",
       "      <td>10 Gloucester Road</td>\n",
       "      <td>BS32 4AA</td>\n",
       "      <td>Almondsbury</td>\n",
       "      <td>UK</td>\n",
       "      <td>NaN</td>\n",
       "      <td>NaN</td>\n",
       "      <td>NaN</td>\n",
       "    </tr>\n",
       "    <tr>\n",
       "      <td>5678</td>\n",
       "      <td>4377342</td>\n",
       "      <td>Waterfront Hall Auditorium</td>\n",
       "      <td>NaN</td>\n",
       "      <td>NaN</td>\n",
       "      <td>Belfast</td>\n",
       "      <td>UK</td>\n",
       "      <td>NaN</td>\n",
       "      <td>NaN</td>\n",
       "      <td>NaN</td>\n",
       "    </tr>\n",
       "    <tr>\n",
       "      <td>5679</td>\n",
       "      <td>4378026</td>\n",
       "      <td>Bagster House</td>\n",
       "      <td>Walton Lane</td>\n",
       "      <td>TW178LP</td>\n",
       "      <td>Shepperton</td>\n",
       "      <td>UK</td>\n",
       "      <td>150.0</td>\n",
       "      <td>https://www.sheppertonjazzclub.co.uk/</td>\n",
       "      <td>NaN</td>\n",
       "    </tr>\n",
       "    <tr>\n",
       "      <td>5680</td>\n",
       "      <td>4380113</td>\n",
       "      <td>Copper Bar</td>\n",
       "      <td>38 Castle Street</td>\n",
       "      <td>SA1 1HZ</td>\n",
       "      <td>Swansea</td>\n",
       "      <td>UK</td>\n",
       "      <td>NaN</td>\n",
       "      <td>https://www.facebook.com/pg/CopperBarSwansea/</td>\n",
       "      <td>01792 456689</td>\n",
       "    </tr>\n",
       "  </tbody>\n",
       "</table>\n",
       "<p>5681 rows × 9 columns</p>\n",
       "</div>"
      ],
      "text/plain": [
       "      venueID                   venueName                venueStreet  \\\n",
       "0        1561               The Sugarmill           Brunswick Street   \n",
       "1        1575        O2 Apollo Manchester             Stockport Road   \n",
       "2        1576                Bramham Park               Bramham Park   \n",
       "3        1584         The Yorkshire House        2 Parliament Street   \n",
       "4        1602                       South  4a King Street  Deansgate   \n",
       "...       ...                         ...                        ...   \n",
       "5676  4376272         Watling Street Beer                Tariff Road   \n",
       "5677  4376336        Almondsbury Creative         10 Gloucester Road   \n",
       "5678  4377342  Waterfront Hall Auditorium                        NaN   \n",
       "5679  4378026               Bagster House                Walton Lane   \n",
       "5680  4380113                  Copper Bar           38 Castle Street   \n",
       "\n",
       "     venuePostcode       venueCity venueCountry  venueCapacity  \\\n",
       "0          ST1 1DR  Stoke On Trent           UK          400.0   \n",
       "1          M12 6AP      Manchester           UK         3500.0   \n",
       "2         LS23 6ND        Wetherby           UK        90000.0   \n",
       "3          LA1 1DB       Lancaster           UK            NaN   \n",
       "4           M2 6DQ      Manchester           UK            NaN   \n",
       "...            ...             ...          ...            ...   \n",
       "5676       N17 0EB          London           UK            NaN   \n",
       "5677      BS32 4AA     Almondsbury           UK            NaN   \n",
       "5678           NaN         Belfast           UK            NaN   \n",
       "5679       TW178LP      Shepperton           UK          150.0   \n",
       "5680       SA1 1HZ         Swansea           UK            NaN   \n",
       "\n",
       "                                       venueWebsite     venuePhone  \n",
       "0                    http://www.thesugarmill.co.uk/   01782 214991  \n",
       "1              http://www.o2apollomanchester.co.uk/  0161 273 6921  \n",
       "2                      http://www.bramhampark.co.uk            NaN  \n",
       "3                                               NaN            NaN  \n",
       "4                                               NaN            NaN  \n",
       "...                                             ...            ...  \n",
       "5676             https://www.watlingstreetbeer.com/   07713 841936  \n",
       "5677                                            NaN            NaN  \n",
       "5678                                            NaN            NaN  \n",
       "5679          https://www.sheppertonjazzclub.co.uk/            NaN  \n",
       "5680  https://www.facebook.com/pg/CopperBarSwansea/   01792 456689  \n",
       "\n",
       "[5681 rows x 9 columns]"
      ]
     },
     "execution_count": 90,
     "metadata": {},
     "output_type": "execute_result"
    }
   ],
   "source": [
    "ukVenues"
   ]
  },
  {
   "cell_type": "code",
   "execution_count": 91,
   "metadata": {},
   "outputs": [
    {
     "data": {
      "text/plain": [
       "venueID          5681\n",
       "venueName        5681\n",
       "venueStreet      4727\n",
       "venuePostcode    4935\n",
       "venueCity        5681\n",
       "venueCountry     5681\n",
       "venueCapacity     653\n",
       "venueWebsite     1975\n",
       "venuePhone       1175\n",
       "dtype: int64"
      ]
     },
     "execution_count": 91,
     "metadata": {},
     "output_type": "execute_result"
    }
   ],
   "source": [
    "ukVenues.count()"
   ]
  },
  {
   "cell_type": "code",
   "execution_count": 92,
   "metadata": {},
   "outputs": [],
   "source": [
    "ukVenues.venueStreet.fillna('Missing Venue-street data', inplace = True)"
   ]
  },
  {
   "cell_type": "code",
   "execution_count": 93,
   "metadata": {},
   "outputs": [
    {
     "data": {
      "text/plain": [
       "0                Brunswick Street\n",
       "1                  Stockport Road\n",
       "2                    Bramham Park\n",
       "3             2 Parliament Street\n",
       "4       4a King Street  Deansgate\n",
       "                  ...            \n",
       "5676                  Tariff Road\n",
       "5677           10 Gloucester Road\n",
       "5678    Missing Venue-street data\n",
       "5679                  Walton Lane\n",
       "5680             38 Castle Street\n",
       "Name: venueStreet, Length: 5681, dtype: object"
      ]
     },
     "execution_count": 93,
     "metadata": {},
     "output_type": "execute_result"
    }
   ],
   "source": [
    "ukVenues.venueStreet"
   ]
  },
  {
   "cell_type": "code",
   "execution_count": 94,
   "metadata": {},
   "outputs": [
    {
     "data": {
      "text/plain": [
       "venueID          5681\n",
       "venueName        5681\n",
       "venueStreet      5681\n",
       "venuePostcode    4935\n",
       "venueCity        5681\n",
       "venueCountry     5681\n",
       "venueCapacity     653\n",
       "venueWebsite     1975\n",
       "venuePhone       1175\n",
       "dtype: int64"
      ]
     },
     "execution_count": 94,
     "metadata": {},
     "output_type": "execute_result"
    }
   ],
   "source": [
    "ukVenues.count()"
   ]
  },
  {
   "cell_type": "code",
   "execution_count": 95,
   "metadata": {},
   "outputs": [],
   "source": [
    "ukVenues.venuePostcode.fillna('A1 2BC', inplace = True)"
   ]
  },
  {
   "cell_type": "code",
   "execution_count": 96,
   "metadata": {},
   "outputs": [
    {
     "data": {
      "text/plain": [
       "0        ST1 1DR\n",
       "1        M12 6AP\n",
       "2       LS23 6ND\n",
       "3        LA1 1DB\n",
       "4         M2 6DQ\n",
       "          ...   \n",
       "5676     N17 0EB\n",
       "5677    BS32 4AA\n",
       "5678      A1 2BC\n",
       "5679     TW178LP\n",
       "5680     SA1 1HZ\n",
       "Name: venuePostcode, Length: 5681, dtype: object"
      ]
     },
     "execution_count": 96,
     "metadata": {},
     "output_type": "execute_result"
    }
   ],
   "source": [
    "ukVenues.venuePostcode"
   ]
  },
  {
   "cell_type": "code",
   "execution_count": 97,
   "metadata": {},
   "outputs": [
    {
     "data": {
      "text/plain": [
       "venueID          5681\n",
       "venueName        5681\n",
       "venueStreet      5681\n",
       "venuePostcode    5681\n",
       "venueCity        5681\n",
       "venueCountry     5681\n",
       "venueCapacity     653\n",
       "venueWebsite     1975\n",
       "venuePhone       1175\n",
       "dtype: int64"
      ]
     },
     "execution_count": 97,
     "metadata": {},
     "output_type": "execute_result"
    }
   ],
   "source": [
    "ukVenues.count()"
   ]
  },
  {
   "cell_type": "code",
   "execution_count": 98,
   "metadata": {},
   "outputs": [
    {
     "data": {
      "text/plain": [
       "20.0"
      ]
     },
     "execution_count": 98,
     "metadata": {},
     "output_type": "execute_result"
    }
   ],
   "source": [
    "ukVenues.venueCapacity.min()"
   ]
  },
  {
   "cell_type": "code",
   "execution_count": 99,
   "metadata": {},
   "outputs": [],
   "source": [
    "ukVenues.venueCapacity.fillna(ukVenues.venueCapacity.min(), inplace = True)"
   ]
  },
  {
   "cell_type": "code",
   "execution_count": 100,
   "metadata": {},
   "outputs": [
    {
     "data": {
      "text/plain": [
       "0         400.0\n",
       "1        3500.0\n",
       "2       90000.0\n",
       "3          20.0\n",
       "4          20.0\n",
       "         ...   \n",
       "5676       20.0\n",
       "5677       20.0\n",
       "5678       20.0\n",
       "5679      150.0\n",
       "5680       20.0\n",
       "Name: venueCapacity, Length: 5681, dtype: float64"
      ]
     },
     "execution_count": 100,
     "metadata": {},
     "output_type": "execute_result"
    }
   ],
   "source": [
    "ukVenues.venueCapacity"
   ]
  },
  {
   "cell_type": "code",
   "execution_count": 101,
   "metadata": {},
   "outputs": [
    {
     "data": {
      "text/plain": [
       "venueID          5681\n",
       "venueName        5681\n",
       "venueStreet      5681\n",
       "venuePostcode    5681\n",
       "venueCity        5681\n",
       "venueCountry     5681\n",
       "venueCapacity    5681\n",
       "venueWebsite     1975\n",
       "venuePhone       1175\n",
       "dtype: int64"
      ]
     },
     "execution_count": 101,
     "metadata": {},
     "output_type": "execute_result"
    }
   ],
   "source": [
    "ukVenues.count()"
   ]
  },
  {
   "cell_type": "code",
   "execution_count": 102,
   "metadata": {},
   "outputs": [],
   "source": [
    "ukVenues.venueWebsite.fillna('http://www.missingvenuewebsitedata.co.uk', inplace = True)"
   ]
  },
  {
   "cell_type": "code",
   "execution_count": 103,
   "metadata": {},
   "outputs": [
    {
     "data": {
      "text/plain": [
       "0                      http://www.thesugarmill.co.uk/\n",
       "1                http://www.o2apollomanchester.co.uk/\n",
       "2                        http://www.bramhampark.co.uk\n",
       "3            http://www.missingvenuewebsitedata.co.uk\n",
       "4            http://www.missingvenuewebsitedata.co.uk\n",
       "                            ...                      \n",
       "5676               https://www.watlingstreetbeer.com/\n",
       "5677         http://www.missingvenuewebsitedata.co.uk\n",
       "5678         http://www.missingvenuewebsitedata.co.uk\n",
       "5679            https://www.sheppertonjazzclub.co.uk/\n",
       "5680    https://www.facebook.com/pg/CopperBarSwansea/\n",
       "Name: venueWebsite, Length: 5681, dtype: object"
      ]
     },
     "execution_count": 103,
     "metadata": {},
     "output_type": "execute_result"
    }
   ],
   "source": [
    "ukVenues.venueWebsite"
   ]
  },
  {
   "cell_type": "code",
   "execution_count": 104,
   "metadata": {},
   "outputs": [
    {
     "data": {
      "text/plain": [
       "venueID          5681\n",
       "venueName        5681\n",
       "venueStreet      5681\n",
       "venuePostcode    5681\n",
       "venueCity        5681\n",
       "venueCountry     5681\n",
       "venueCapacity    5681\n",
       "venueWebsite     5681\n",
       "venuePhone       1175\n",
       "dtype: int64"
      ]
     },
     "execution_count": 104,
     "metadata": {},
     "output_type": "execute_result"
    }
   ],
   "source": [
    "ukVenues.count()"
   ]
  },
  {
   "cell_type": "code",
   "execution_count": 105,
   "metadata": {},
   "outputs": [],
   "source": [
    "ukVenues.venuePhone.fillna('0123 456 7890', inplace = True)"
   ]
  },
  {
   "cell_type": "code",
   "execution_count": 106,
   "metadata": {},
   "outputs": [
    {
     "data": {
      "text/plain": [
       "0        01782 214991\n",
       "1       0161 273 6921\n",
       "2       0123 456 7890\n",
       "3       0123 456 7890\n",
       "4       0123 456 7890\n",
       "            ...      \n",
       "5676     07713 841936\n",
       "5677    0123 456 7890\n",
       "5678    0123 456 7890\n",
       "5679    0123 456 7890\n",
       "5680     01792 456689\n",
       "Name: venuePhone, Length: 5681, dtype: object"
      ]
     },
     "execution_count": 106,
     "metadata": {},
     "output_type": "execute_result"
    }
   ],
   "source": [
    "ukVenues.venuePhone"
   ]
  },
  {
   "cell_type": "code",
   "execution_count": 107,
   "metadata": {},
   "outputs": [
    {
     "data": {
      "text/plain": [
       "venueID          5681\n",
       "venueName        5681\n",
       "venueStreet      5681\n",
       "venuePostcode    5681\n",
       "venueCity        5681\n",
       "venueCountry     5681\n",
       "venueCapacity    5681\n",
       "venueWebsite     5681\n",
       "venuePhone       5681\n",
       "dtype: int64"
      ]
     },
     "execution_count": 107,
     "metadata": {},
     "output_type": "execute_result"
    }
   ],
   "source": [
    "ukVenues.count()"
   ]
  },
  {
   "cell_type": "code",
   "execution_count": 108,
   "metadata": {},
   "outputs": [],
   "source": [
    "ukVenues.to_csv('Clean data/ukVenues.csv', index=False)"
   ]
  }
 ],
 "metadata": {
  "kernelspec": {
   "display_name": "Python 3",
   "language": "python",
   "name": "python3"
  },
  "language_info": {
   "codemirror_mode": {
    "name": "ipython",
    "version": 3
   },
   "file_extension": ".py",
   "mimetype": "text/x-python",
   "name": "python",
   "nbconvert_exporter": "python",
   "pygments_lexer": "ipython3",
   "version": "3.7.4"
  }
 },
 "nbformat": 4,
 "nbformat_minor": 2
}
