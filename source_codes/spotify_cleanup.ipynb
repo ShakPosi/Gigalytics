{
 "cells": [
  {
   "cell_type": "markdown",
   "metadata": {},
   "source": [
    "# Data Cleansing for Spotify Dataset"
   ]
  },
  {
   "cell_type": "code",
   "execution_count": 3,
   "metadata": {},
   "outputs": [
    {
     "name": "stderr",
     "output_type": "stream",
     "text": [
      "C:\\Users\\adebola\\.conda\\envs\\New_Base_Py3\\lib\\site-packages\\IPython\\core\\interactiveshell.py:3063: DtypeWarning: Columns (2,4,6) have mixed types.Specify dtype option on import or set low_memory=False.\n",
      "  interactivity=interactivity, compiler=compiler, result=result)\n"
     ]
    }
   ],
   "source": [
    "import pandas as pd\n",
    "import fuzzy_pandas as fpd\n",
    "\n",
    "df_weeklyTop200 = pd.read_csv('../datasets/spotify_top_200_weekly.csv')\n",
    "df_track_details = pd.read_csv('../datasets/spotify_track_details.csv')\n",
    "df_artists = pd.read_csv('../datasets/kaggle_artists.csv')"
   ]
  },
  {
   "cell_type": "code",
   "execution_count": null,
   "metadata": {},
   "outputs": [],
   "source": [
    "df_artists.count()[0]"
   ]
  },
  {
   "cell_type": "code",
   "execution_count": null,
   "metadata": {},
   "outputs": [],
   "source": [
    "df_weeklyTop200.head()"
   ]
  },
  {
   "cell_type": "code",
   "execution_count": null,
   "metadata": {},
   "outputs": [],
   "source": [
    "df_weeklyTop200.info()"
   ]
  },
  {
   "cell_type": "code",
   "execution_count": null,
   "metadata": {},
   "outputs": [],
   "source": [
    "#df_weeklyTop200['Start_Date'] = df_weeklyTop200.apply(lambda row: row.date[:10],row.date[10:] axis = 1) \n",
    "df_weeklyTop200.describe(include='all')\n",
    "#df_weeklyTop200.describe()\n",
    "\n"
   ]
  },
  {
   "cell_type": "code",
   "execution_count": null,
   "metadata": {},
   "outputs": [],
   "source": [
    "df_weeklyTop200['date'][10:]"
   ]
  },
  {
   "cell_type": "code",
   "execution_count": null,
   "metadata": {},
   "outputs": [],
   "source": [
    "df_weeklyTop200[['start_date', 'end_date']] = df_weeklyTop200['date'].str.split('--', expand=True)\n",
    "df_weeklyTop200"
   ]
  },
  {
   "cell_type": "code",
   "execution_count": null,
   "metadata": {},
   "outputs": [],
   "source": [
    "df_weeklyTop200.isnull().values.any()"
   ]
  },
  {
   "cell_type": "code",
   "execution_count": null,
   "metadata": {},
   "outputs": [],
   "source": [
    "df_track_details.head()"
   ]
  },
  {
   "cell_type": "code",
   "execution_count": null,
   "metadata": {},
   "outputs": [],
   "source": [
    "df_track_details.describe(include='all')"
   ]
  },
  {
   "cell_type": "code",
   "execution_count": null,
   "metadata": {},
   "outputs": [],
   "source": [
    "df_track_details.isna().any()"
   ]
  },
  {
   "cell_type": "code",
   "execution_count": 4,
   "metadata": {},
   "outputs": [
    {
     "data": {
      "text/html": [
       "<div>\n",
       "<style scoped>\n",
       "    .dataframe tbody tr th:only-of-type {\n",
       "        vertical-align: middle;\n",
       "    }\n",
       "\n",
       "    .dataframe tbody tr th {\n",
       "        vertical-align: top;\n",
       "    }\n",
       "\n",
       "    .dataframe thead th {\n",
       "        text-align: right;\n",
       "    }\n",
       "</style>\n",
       "<table border=\"1\" class=\"dataframe\">\n",
       "  <thead>\n",
       "    <tr style=\"text-align: right;\">\n",
       "      <th></th>\n",
       "      <th>track_spotifyID</th>\n",
       "      <th>artist_spotifyID</th>\n",
       "      <th>artist_mbid</th>\n",
       "      <th>artist_name</th>\n",
       "      <th>track_url</th>\n",
       "      <th>track_popularity</th>\n",
       "      <th>track_duration_ms</th>\n",
       "      <th>track_is_local</th>\n",
       "      <th>albumID</th>\n",
       "      <th>album_track_number</th>\n",
       "      <th>album_release_date</th>\n",
       "      <th>album_type</th>\n",
       "    </tr>\n",
       "  </thead>\n",
       "  <tbody>\n",
       "    <tr>\n",
       "      <th>3</th>\n",
       "      <td>5itOtNx0WxtJmi1TQ3RuRd</td>\n",
       "      <td>4f9iBmdUOhQWeP7dcAn1pf</td>\n",
       "      <td>NaN</td>\n",
       "      <td>Rag'n'Bone Man</td>\n",
       "      <td>https://open.spotify.com/track/5itOtNx0WxtJmi1...</td>\n",
       "      <td>80</td>\n",
       "      <td>229184</td>\n",
       "      <td>False</td>\n",
       "      <td>4PwXTHenZZx7ebgsnTM65K</td>\n",
       "      <td>1</td>\n",
       "      <td>2019-01-11</td>\n",
       "      <td>single</td>\n",
       "    </tr>\n",
       "    <tr>\n",
       "      <th>11</th>\n",
       "      <td>2VxeLyX666F8uXCJ0dZF8B</td>\n",
       "      <td>4VIvfOurcf0vuLRxLkGnIG</td>\n",
       "      <td>NaN</td>\n",
       "      <td>Bradley Cooper</td>\n",
       "      <td>https://open.spotify.com/track/2VxeLyX666F8uXC...</td>\n",
       "      <td>86</td>\n",
       "      <td>215733</td>\n",
       "      <td>False</td>\n",
       "      <td>4sLtOBOzn4s3GDUv3c5oJD</td>\n",
       "      <td>12</td>\n",
       "      <td>2018-10-05</td>\n",
       "      <td>album</td>\n",
       "    </tr>\n",
       "    <tr>\n",
       "      <th>12</th>\n",
       "      <td>2cytBOLpwFRX7J9URCrFIe</td>\n",
       "      <td>31Ua7zSTJxegjyd49ujbSA</td>\n",
       "      <td>NaN</td>\n",
       "      <td>NSG</td>\n",
       "      <td>https://open.spotify.com/track/2cytBOLpwFRX7J9...</td>\n",
       "      <td>69</td>\n",
       "      <td>240081</td>\n",
       "      <td>False</td>\n",
       "      <td>35MvbFXqp1ESDkKNqYfOIM</td>\n",
       "      <td>1</td>\n",
       "      <td>2018-11-30</td>\n",
       "      <td>single</td>\n",
       "    </tr>\n",
       "    <tr>\n",
       "      <th>13</th>\n",
       "      <td>2cytBOLpwFRX7J9URCrFIe</td>\n",
       "      <td>7b79bQFziJFedJb75k6hFt</td>\n",
       "      <td>NaN</td>\n",
       "      <td>Tion Wayne</td>\n",
       "      <td>https://open.spotify.com/track/2cytBOLpwFRX7J9...</td>\n",
       "      <td>69</td>\n",
       "      <td>240081</td>\n",
       "      <td>False</td>\n",
       "      <td>35MvbFXqp1ESDkKNqYfOIM</td>\n",
       "      <td>1</td>\n",
       "      <td>2018-11-30</td>\n",
       "      <td>single</td>\n",
       "    </tr>\n",
       "    <tr>\n",
       "      <th>30</th>\n",
       "      <td>1fp2uoWXPca3mIdxRHIgQm</td>\n",
       "      <td>1Gm0kKaDx4GH6pQF88rjSK</td>\n",
       "      <td>NaN</td>\n",
       "      <td>Cadet</td>\n",
       "      <td>https://open.spotify.com/track/1fp2uoWXPca3mId...</td>\n",
       "      <td>65</td>\n",
       "      <td>192571</td>\n",
       "      <td>False</td>\n",
       "      <td>4wOuGy0YTmOHjHIUo6drO8</td>\n",
       "      <td>1</td>\n",
       "      <td>2018-09-14</td>\n",
       "      <td>single</td>\n",
       "    </tr>\n",
       "  </tbody>\n",
       "</table>\n",
       "</div>"
      ],
      "text/plain": [
       "           track_spotifyID        artist_spotifyID artist_mbid  \\\n",
       "3   5itOtNx0WxtJmi1TQ3RuRd  4f9iBmdUOhQWeP7dcAn1pf         NaN   \n",
       "11  2VxeLyX666F8uXCJ0dZF8B  4VIvfOurcf0vuLRxLkGnIG         NaN   \n",
       "12  2cytBOLpwFRX7J9URCrFIe  31Ua7zSTJxegjyd49ujbSA         NaN   \n",
       "13  2cytBOLpwFRX7J9URCrFIe  7b79bQFziJFedJb75k6hFt         NaN   \n",
       "30  1fp2uoWXPca3mIdxRHIgQm  1Gm0kKaDx4GH6pQF88rjSK         NaN   \n",
       "\n",
       "       artist_name                                          track_url  \\\n",
       "3   Rag'n'Bone Man  https://open.spotify.com/track/5itOtNx0WxtJmi1...   \n",
       "11  Bradley Cooper  https://open.spotify.com/track/2VxeLyX666F8uXC...   \n",
       "12             NSG  https://open.spotify.com/track/2cytBOLpwFRX7J9...   \n",
       "13      Tion Wayne  https://open.spotify.com/track/2cytBOLpwFRX7J9...   \n",
       "30           Cadet  https://open.spotify.com/track/1fp2uoWXPca3mId...   \n",
       "\n",
       "    track_popularity  track_duration_ms  track_is_local  \\\n",
       "3                 80             229184           False   \n",
       "11                86             215733           False   \n",
       "12                69             240081           False   \n",
       "13                69             240081           False   \n",
       "30                65             192571           False   \n",
       "\n",
       "                   albumID  album_track_number album_release_date album_type  \n",
       "3   4PwXTHenZZx7ebgsnTM65K                   1         2019-01-11     single  \n",
       "11  4sLtOBOzn4s3GDUv3c5oJD                  12         2018-10-05      album  \n",
       "12  35MvbFXqp1ESDkKNqYfOIM                   1         2018-11-30     single  \n",
       "13  35MvbFXqp1ESDkKNqYfOIM                   1         2018-11-30     single  \n",
       "30  4wOuGy0YTmOHjHIUo6drO8                   1         2018-09-14     single  "
      ]
     },
     "execution_count": 4,
     "metadata": {},
     "output_type": "execute_result"
    }
   ],
   "source": [
    "df_null_mbid = df_track_details[df_track_details['artist_mbid'].isnull()]\n",
    "df_null_mbid.head()\n",
    "#df_track_details[df_track_details['artist_mbid'].notnull()]"
   ]
  },
  {
   "cell_type": "code",
   "execution_count": null,
   "metadata": {},
   "outputs": [],
   "source": [
    "df_artists"
   ]
  },
  {
   "cell_type": "code",
   "execution_count": null,
   "metadata": {},
   "outputs": [],
   "source": [
    "df_null_mbid.info()"
   ]
  },
  {
   "cell_type": "code",
   "execution_count": 5,
   "metadata": {},
   "outputs": [
    {
     "name": "stderr",
     "output_type": "stream",
     "text": [
      "C:\\Users\\adebola\\.conda\\envs\\New_Base_Py3\\lib\\site-packages\\ipykernel_launcher.py:2: SettingWithCopyWarning: \n",
      "A value is trying to be set on a copy of a slice from a DataFrame.\n",
      "Try using .loc[row_indexer,col_indexer] = value instead\n",
      "\n",
      "See the caveats in the documentation: https://pandas.pydata.org/pandas-docs/stable/user_guide/indexing.html#returning-a-view-versus-a-copy\n",
      "  \n"
     ]
    },
    {
     "ename": "KeyboardInterrupt",
     "evalue": "",
     "output_type": "error",
     "traceback": [
      "\u001b[1;31m---------------------------------------------------------------------------\u001b[0m",
      "\u001b[1;31mKeyboardInterrupt\u001b[0m                         Traceback (most recent call last)",
      "\u001b[1;32m<ipython-input-5-a1b495fe7967>\u001b[0m in \u001b[0;36m<module>\u001b[1;34m\u001b[0m\n\u001b[0;32m     10\u001b[0m                           \u001b[0mthreshold\u001b[0m\u001b[1;33m=\u001b[0m\u001b[1;36m0.75\u001b[0m\u001b[1;33m,\u001b[0m\u001b[1;33m\u001b[0m\u001b[1;33m\u001b[0m\u001b[0m\n\u001b[0;32m     11\u001b[0m                           \u001b[0mkeep_left\u001b[0m\u001b[1;33m=\u001b[0m\u001b[1;33m[\u001b[0m\u001b[1;34m'track_spotifyID'\u001b[0m\u001b[1;33m,\u001b[0m\u001b[1;34m'artist_name'\u001b[0m\u001b[1;33m]\u001b[0m\u001b[1;33m,\u001b[0m\u001b[1;33m\u001b[0m\u001b[1;33m\u001b[0m\u001b[0m\n\u001b[1;32m---> 12\u001b[1;33m                           keep_right=['mbid','artist_mb'])\n\u001b[0m\u001b[0;32m     13\u001b[0m \u001b[1;33m\u001b[0m\u001b[0m\n",
      "\u001b[1;32m~\\.conda\\envs\\New_Base_Py3\\lib\\site-packages\\fuzzy_pandas\\fuzzy_merge.py\u001b[0m in \u001b[0;36mfuzzy_merge\u001b[1;34m(df1, df2, on, left_on, right_on, keep, keep_left, keep_right, method, threshold, **kwargs)\u001b[0m\n\u001b[0;32m    131\u001b[0m         \u001b[0moutput\u001b[0m\u001b[1;33m=\u001b[0m\u001b[0moutput\u001b[0m\u001b[1;33m,\u001b[0m\u001b[1;33m\u001b[0m\u001b[1;33m\u001b[0m\u001b[0m\n\u001b[0;32m    132\u001b[0m         \u001b[0mmethods\u001b[0m\u001b[1;33m=\u001b[0m\u001b[0mmethod\u001b[0m\u001b[1;33m,\u001b[0m\u001b[1;33m\u001b[0m\u001b[1;33m\u001b[0m\u001b[0m\n\u001b[1;32m--> 133\u001b[1;33m         **kwargs)\n\u001b[0m\u001b[0;32m    134\u001b[0m \u001b[1;33m\u001b[0m\u001b[0m\n\u001b[0;32m    135\u001b[0m     \u001b[1;32mreturn\u001b[0m \u001b[0mpd\u001b[0m\u001b[1;33m.\u001b[0m\u001b[0mDataFrame\u001b[0m\u001b[1;33m(\u001b[0m\u001b[0mresults\u001b[0m\u001b[1;33m,\u001b[0m \u001b[0mcolumns\u001b[0m\u001b[1;33m=\u001b[0m\u001b[0mkeys\u001b[0m\u001b[1;33m)\u001b[0m\u001b[1;33m\u001b[0m\u001b[1;33m\u001b[0m\u001b[0m\n",
      "\u001b[1;32m~\\.conda\\envs\\New_Base_Py3\\lib\\site-packages\\csvmatch.py\u001b[0m in \u001b[0;36mrun\u001b[1;34m(data1, headers1, data2, headers2, fields1, fields2, ignore_case, ignore_nonalpha, ignore_nonlatin, ignore_order_words, ignore_order_letters, ignore_titles, ignore_custom, methods, thresholds, output, join, ticker)\u001b[0m\n\u001b[0;32m     52\u001b[0m     \u001b[0mmatches\u001b[0m \u001b[1;33m=\u001b[0m \u001b[0mmatcher\u001b[0m\u001b[1;33m(\u001b[0m\u001b[0mprocessed1\u001b[0m\u001b[1;33m,\u001b[0m \u001b[0mprocessed2\u001b[0m\u001b[1;33m)\u001b[0m\u001b[1;33m\u001b[0m\u001b[1;33m\u001b[0m\u001b[0m\n\u001b[0;32m     53\u001b[0m     \u001b[0moutputs\u001b[0m \u001b[1;33m=\u001b[0m \u001b[0mformat\u001b[0m\u001b[1;33m(\u001b[0m\u001b[0moutput\u001b[0m\u001b[1;33m,\u001b[0m \u001b[0mheaders1\u001b[0m\u001b[1;33m,\u001b[0m \u001b[0mheaders2\u001b[0m\u001b[1;33m,\u001b[0m \u001b[0mfields1\u001b[0m\u001b[1;33m,\u001b[0m \u001b[0mfields2\u001b[0m\u001b[1;33m)\u001b[0m\u001b[1;33m\u001b[0m\u001b[1;33m\u001b[0m\u001b[0m\n\u001b[1;32m---> 54\u001b[1;33m     \u001b[0mresults\u001b[0m \u001b[1;33m=\u001b[0m \u001b[0mconnect\u001b[0m\u001b[1;33m(\u001b[0m\u001b[0mjoin\u001b[0m\u001b[1;33m,\u001b[0m \u001b[0mdata1\u001b[0m\u001b[1;33m,\u001b[0m \u001b[0mheaders1\u001b[0m\u001b[1;33m,\u001b[0m \u001b[0mdata2\u001b[0m\u001b[1;33m,\u001b[0m \u001b[0mheaders2\u001b[0m\u001b[1;33m,\u001b[0m \u001b[0mlist\u001b[0m\u001b[1;33m(\u001b[0m\u001b[0mmatches\u001b[0m\u001b[1;33m)\u001b[0m\u001b[1;33m,\u001b[0m \u001b[0moutputs\u001b[0m\u001b[1;33m)\u001b[0m\u001b[1;33m\u001b[0m\u001b[1;33m\u001b[0m\u001b[0m\n\u001b[0m\u001b[0;32m     55\u001b[0m     \u001b[0mkeys\u001b[0m \u001b[1;33m=\u001b[0m \u001b[1;33m[\u001b[0m\u001b[0mkey\u001b[0m \u001b[1;32mfor\u001b[0m \u001b[0m_\u001b[0m\u001b[1;33m,\u001b[0m \u001b[0mkey\u001b[0m \u001b[1;32min\u001b[0m \u001b[0moutputs\u001b[0m\u001b[1;33m]\u001b[0m\u001b[1;33m\u001b[0m\u001b[1;33m\u001b[0m\u001b[0m\n\u001b[0;32m     56\u001b[0m     \u001b[1;32mreturn\u001b[0m \u001b[0mresults\u001b[0m\u001b[1;33m,\u001b[0m \u001b[0mkeys\u001b[0m\u001b[1;33m\u001b[0m\u001b[1;33m\u001b[0m\u001b[0m\n",
      "\u001b[1;32m~\\.conda\\envs\\New_Base_Py3\\lib\\site-packages\\csvmatch.py\u001b[0m in \u001b[0;36mexecutor\u001b[1;34m(data1, data2)\u001b[0m\n\u001b[0;32m    128\u001b[0m                 \u001b[0mdegrees\u001b[0m \u001b[1;33m=\u001b[0m \u001b[1;33m[\u001b[0m\u001b[1;33m]\u001b[0m\u001b[1;33m\u001b[0m\u001b[1;33m\u001b[0m\u001b[0m\n\u001b[0;32m    129\u001b[0m                 \u001b[1;32mfor\u001b[0m \u001b[0mi\u001b[0m\u001b[1;33m,\u001b[0m \u001b[0mmatcher\u001b[0m \u001b[1;32min\u001b[0m \u001b[0menumerate\u001b[0m\u001b[1;33m(\u001b[0m\u001b[0mmatchers\u001b[0m\u001b[1;33m)\u001b[0m\u001b[1;33m:\u001b[0m\u001b[1;33m\u001b[0m\u001b[1;33m\u001b[0m\u001b[0m\n\u001b[1;32m--> 130\u001b[1;33m                     \u001b[0mdegree\u001b[0m \u001b[1;33m=\u001b[0m \u001b[0mmatcher\u001b[0m\u001b[1;33m[\u001b[0m\u001b[1;34m'method'\u001b[0m\u001b[1;33m]\u001b[0m\u001b[1;33m(\u001b[0m\u001b[0mrow1\u001b[0m\u001b[1;33m[\u001b[0m\u001b[0mi\u001b[0m\u001b[1;33m]\u001b[0m\u001b[1;33m,\u001b[0m \u001b[0mrow2\u001b[0m\u001b[1;33m[\u001b[0m\u001b[0mi\u001b[0m\u001b[1;33m]\u001b[0m\u001b[1;33m)\u001b[0m\u001b[1;33m\u001b[0m\u001b[1;33m\u001b[0m\u001b[0m\n\u001b[0m\u001b[0;32m    131\u001b[0m                     \u001b[1;32mif\u001b[0m \u001b[0mdegree\u001b[0m \u001b[1;33m<\u001b[0m \u001b[0mmatcher\u001b[0m\u001b[1;33m[\u001b[0m\u001b[1;34m'threshold'\u001b[0m\u001b[1;33m]\u001b[0m\u001b[1;33m:\u001b[0m \u001b[1;32mbreak\u001b[0m\u001b[1;33m\u001b[0m\u001b[1;33m\u001b[0m\u001b[0m\n\u001b[0;32m    132\u001b[0m                     \u001b[1;32melse\u001b[0m\u001b[1;33m:\u001b[0m \u001b[0mdegrees\u001b[0m\u001b[1;33m.\u001b[0m\u001b[0mappend\u001b[0m\u001b[1;33m(\u001b[0m\u001b[0mdegree\u001b[0m\u001b[1;33m)\u001b[0m\u001b[1;33m\u001b[0m\u001b[1;33m\u001b[0m\u001b[0m\n",
      "\u001b[1;32m~\\.conda\\envs\\New_Base_Py3\\lib\\site-packages\\fuzzylevenshtein.py\u001b[0m in \u001b[0;36mmatch\u001b[1;34m(value1, value2)\u001b[0m\n\u001b[0;32m      3\u001b[0m \u001b[1;32mdef\u001b[0m \u001b[0mmatch\u001b[0m\u001b[1;33m(\u001b[0m\u001b[0mvalue1\u001b[0m\u001b[1;33m,\u001b[0m \u001b[0mvalue2\u001b[0m\u001b[1;33m)\u001b[0m\u001b[1;33m:\u001b[0m\u001b[1;33m\u001b[0m\u001b[1;33m\u001b[0m\u001b[0m\n\u001b[0;32m      4\u001b[0m     \u001b[0mmaximum\u001b[0m \u001b[1;33m=\u001b[0m \u001b[0mfloat\u001b[0m\u001b[1;33m(\u001b[0m\u001b[0mmax\u001b[0m\u001b[1;33m(\u001b[0m\u001b[0mlen\u001b[0m\u001b[1;33m(\u001b[0m\u001b[0mvalue1\u001b[0m\u001b[1;33m)\u001b[0m\u001b[1;33m,\u001b[0m \u001b[0mlen\u001b[0m\u001b[1;33m(\u001b[0m\u001b[0mvalue2\u001b[0m\u001b[1;33m)\u001b[0m\u001b[1;33m)\u001b[0m\u001b[1;33m)\u001b[0m\u001b[1;33m\u001b[0m\u001b[1;33m\u001b[0m\u001b[0m\n\u001b[1;32m----> 5\u001b[1;33m     \u001b[0mdistance\u001b[0m \u001b[1;33m=\u001b[0m \u001b[0mjellyfish\u001b[0m\u001b[1;33m.\u001b[0m\u001b[0mdamerau_levenshtein_distance\u001b[0m\u001b[1;33m(\u001b[0m\u001b[0mvalue1\u001b[0m\u001b[1;33m,\u001b[0m \u001b[0mvalue2\u001b[0m\u001b[1;33m)\u001b[0m\u001b[1;33m\u001b[0m\u001b[1;33m\u001b[0m\u001b[0m\n\u001b[0m\u001b[0;32m      6\u001b[0m     \u001b[1;32mreturn\u001b[0m \u001b[1;36m1\u001b[0m \u001b[1;33m-\u001b[0m \u001b[0mdistance\u001b[0m \u001b[1;33m/\u001b[0m \u001b[0mmaximum\u001b[0m\u001b[1;33m\u001b[0m\u001b[1;33m\u001b[0m\u001b[0m\n",
      "\u001b[1;32m~\\.conda\\envs\\New_Base_Py3\\lib\\site-packages\\jellyfish\\_jellyfish.py\u001b[0m in \u001b[0;36mdamerau_levenshtein_distance\u001b[1;34m(s1, s2)\u001b[0m\n\u001b[0;32m    146\u001b[0m                                   \u001b[0mscore\u001b[0m\u001b[1;33m[\u001b[0m\u001b[0mi\u001b[0m\u001b[1;33m+\u001b[0m\u001b[1;36m1\u001b[0m\u001b[1;33m]\u001b[0m\u001b[1;33m[\u001b[0m\u001b[0mj\u001b[0m\u001b[1;33m]\u001b[0m \u001b[1;33m+\u001b[0m \u001b[1;36m1\u001b[0m\u001b[1;33m,\u001b[0m\u001b[1;33m\u001b[0m\u001b[1;33m\u001b[0m\u001b[0m\n\u001b[0;32m    147\u001b[0m                                   \u001b[0mscore\u001b[0m\u001b[1;33m[\u001b[0m\u001b[0mi\u001b[0m\u001b[1;33m]\u001b[0m\u001b[1;33m[\u001b[0m\u001b[0mj\u001b[0m\u001b[1;33m+\u001b[0m\u001b[1;36m1\u001b[0m\u001b[1;33m]\u001b[0m \u001b[1;33m+\u001b[0m \u001b[1;36m1\u001b[0m\u001b[1;33m,\u001b[0m\u001b[1;33m\u001b[0m\u001b[1;33m\u001b[0m\u001b[0m\n\u001b[1;32m--> 148\u001b[1;33m                                   score[i1][j1] + (i-i1-1) + 1 + (j-j1-1))\n\u001b[0m\u001b[0;32m    149\u001b[0m         \u001b[0mda\u001b[0m\u001b[1;33m[\u001b[0m\u001b[0ms1\u001b[0m\u001b[1;33m[\u001b[0m\u001b[0mi\u001b[0m\u001b[1;33m-\u001b[0m\u001b[1;36m1\u001b[0m\u001b[1;33m]\u001b[0m\u001b[1;33m]\u001b[0m \u001b[1;33m=\u001b[0m \u001b[0mi\u001b[0m\u001b[1;33m\u001b[0m\u001b[1;33m\u001b[0m\u001b[0m\n\u001b[0;32m    150\u001b[0m \u001b[1;33m\u001b[0m\u001b[0m\n",
      "\u001b[1;31mKeyboardInterrupt\u001b[0m: "
     ]
    }
   ],
   "source": [
    "\n",
    "#df_artists\n",
    "df_null_mbid['str_artist_name'] = df_null_mbid['artist_name'].astype(str)\n",
    "df_artists['str_artist_mb'] = df_artists['artist_mb'].astype(str)\n",
    "\n",
    "matches = fpd.fuzzy_merge(df_null_mbid, df_artists,\n",
    "                          left_on=['str_artist_name'],\n",
    "                          right_on=['str_artist_mb'],\n",
    "                          ignore_case=True,\n",
    "                          method='levenshtein',\n",
    "                          threshold=0.75,\n",
    "                          keep_left=['track_spotifyID','artist_name'],\n",
    "                          keep_right=['mbid','artist_mb'])\n",
    "                        \n"
   ]
  },
  {
   "cell_type": "code",
   "execution_count": null,
   "metadata": {},
   "outputs": [],
   "source": [
    "matches.head()"
   ]
  }
 ],
 "metadata": {
  "kernelspec": {
   "display_name": "Python 3",
   "language": "python",
   "name": "python3"
  },
  "language_info": {
   "codemirror_mode": {
    "name": "ipython",
    "version": 3
   },
   "file_extension": ".py",
   "mimetype": "text/x-python",
   "name": "python",
   "nbconvert_exporter": "python",
   "pygments_lexer": "ipython3",
   "version": "3.7.6"
  }
 },
 "nbformat": 4,
 "nbformat_minor": 4
}
