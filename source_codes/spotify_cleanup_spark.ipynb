{
 "cells": [
  {
   "cell_type": "markdown",
   "metadata": {},
   "source": [
    "# Data Cleansing for Spotify Dataset"
   ]
  },
  {
   "cell_type": "code",
   "execution_count": 1,
   "metadata": {},
   "outputs": [],
   "source": [
    "import os\n",
    "os.environ[\"SPARK_HOME\"] = \"/home/osboxes/spark/spark-2.4.0-bin-hadoop2.7/\"\n",
    "\n",
    "import findspark\n",
    "findspark.init()\n",
    "findspark.find()\n",
    "import pyspark\n",
    "from pyspark import SparkContext, SparkConf\n",
    "from pyspark.sql import SparkSession\n",
    "from pyspark.sql.functions import levenshtein \n",
    "conf = pyspark.SparkConf().setAppName('appName').setMaster('local')\n",
    "#conf = pyspark.SparkConf().setAppName('appName').setMaster('spark://192.168.11.128:8080')\n",
    "\n",
    "sc = pyspark.SparkContext(conf=conf)\n",
    "spark = SparkSession(sc)"
   ]
  },
  {
   "cell_type": "code",
   "execution_count": 2,
   "metadata": {},
   "outputs": [],
   "source": [
    "df_weeklyTop200 = spark.read.csv('../datasets/spotify_top_200_weekly.csv', header=True)\n",
    "df_track_details = spark.read.csv('../datasets/spotify_track_details.csv', header=True)\n",
    "df_kaggle_artists = spark.read.csv('../datasets/kaggle_artists.csv', header=True)\n",
    "df_musicbrainz_artist = spark.read.csv('../datasets/musicBrainz_ActiveArtists.csv', header=True)"
   ]
  },
  {
   "cell_type": "code",
   "execution_count": 3,
   "metadata": {},
   "outputs": [
    {
     "ename": "NameError",
     "evalue": "name 'df_artists' is not defined",
     "output_type": "error",
     "traceback": [
      "\u001b[0;31m---------------------------------------------------------------------------\u001b[0m",
      "\u001b[0;31mNameError\u001b[0m                                 Traceback (most recent call last)",
      "\u001b[0;32m<ipython-input-3-ae1e9860f2e2>\u001b[0m in \u001b[0;36m<module>\u001b[0;34m\u001b[0m\n\u001b[0;32m----> 1\u001b[0;31m \u001b[0mdf_artists\u001b[0m\u001b[0;34m.\u001b[0m\u001b[0mcount\u001b[0m\u001b[0;34m(\u001b[0m\u001b[0;34m)\u001b[0m\u001b[0;34m\u001b[0m\u001b[0;34m\u001b[0m\u001b[0m\n\u001b[0m",
      "\u001b[0;31mNameError\u001b[0m: name 'df_artists' is not defined"
     ]
    }
   ],
   "source": [
    "df_artists.count()"
   ]
  },
  {
   "cell_type": "code",
   "execution_count": null,
   "metadata": {},
   "outputs": [],
   "source": [
    "df_weeklyTop200.show()"
   ]
  },
  {
   "cell_type": "code",
   "execution_count": null,
   "metadata": {},
   "outputs": [],
   "source": [
    "df_weeklyTop200.info()"
   ]
  },
  {
   "cell_type": "code",
   "execution_count": null,
   "metadata": {},
   "outputs": [],
   "source": [
    "#df_weeklyTop200['Start_Date'] = df_weeklyTop200.apply(lambda row: row.date[:10],row.date[10:] axis = 1) \n",
    "df_weeklyTop200.describe(include='all')\n",
    "#df_weeklyTop200.describe()\n",
    "\n"
   ]
  },
  {
   "cell_type": "code",
   "execution_count": null,
   "metadata": {},
   "outputs": [],
   "source": [
    "df_weeklyTop200['date']"
   ]
  },
  {
   "cell_type": "code",
   "execution_count": null,
   "metadata": {},
   "outputs": [],
   "source": [
    "#import pyspark.sql.functions as F"
   ]
  },
  {
   "cell_type": "code",
   "execution_count": 22,
   "metadata": {},
   "outputs": [
    {
     "name": "stdout",
     "output_type": "stream",
     "text": [
      "+--------+--------------------+-------------+-------+--------------------+------+--------------------+----------+----------+\n",
      "|Position|          Track Name|       Artist|Streams|                date|region|          spotify_id|start_date|  end_date|\n",
      "+--------+--------------------+-------------+-------+--------------------+------+--------------------+----------+----------+\n",
      "|       1|   Someone You Loved|Lewis Capaldi|3338234|2019-03-01--2019-...|    gb|2TIlqbIneP0ZY1O0E...|2019-03-01|2019-03-08|\n",
      "|       2|break up with you...|Ariana Grande|3041558|2019-03-01--2019-...|    gb|4kV4N9D1iKVxx1KLv...|2019-03-01|2019-03-08|\n",
      "+--------+--------------------+-------------+-------+--------------------+------+--------------------+----------+----------+\n",
      "only showing top 2 rows\n",
      "\n"
     ]
    }
   ],
   "source": [
    "from pyspark.sql.functions import col, split\n",
    "df_weeklyTop200 = df_weeklyTop200.withColumn(\"start_date\", split(col(\"date\"), \"--\").getItem(0)).withColumn(\"end_date\", split(col(\"date\"), \"--\").getItem(1))\n",
    "\n",
    "df_weeklyTop200.show(2)\n",
    "#df_weeklyTop200[['start_date', 'end_date']] = df_weeklyTop200.date #.str.split('--', expand=True)\n",
    "#df_weeklyTop200"
   ]
  },
  {
   "cell_type": "code",
   "execution_count": null,
   "metadata": {},
   "outputs": [],
   "source": [
    "#df_weeklyTop200.distinct().show()\n",
    "df_weeklyTop200.select('Artist').distinct().count()"
   ]
  },
  {
   "cell_type": "code",
   "execution_count": null,
   "metadata": {},
   "outputs": [],
   "source": [
    "df_weeklyTop200.select('*').describe()"
   ]
  },
  {
   "cell_type": "markdown",
   "metadata": {},
   "source": [
    "## Clean up the track_details data\n",
    "### Lookup missing mb_id in the in the kaggle dataset"
   ]
  },
  {
   "cell_type": "code",
   "execution_count": null,
   "metadata": {},
   "outputs": [],
   "source": [
    "df_track_details.show(2)"
   ]
  },
  {
   "cell_type": "code",
   "execution_count": 5,
   "metadata": {},
   "outputs": [
    {
     "data": {
      "text/plain": [
       "629"
      ]
     },
     "execution_count": 5,
     "metadata": {},
     "output_type": "execute_result"
    }
   ],
   "source": [
    "#get all rows with no mb_id\n",
    "\n",
    "df_null_mbid = df_track_details.filter(df_track_details.artist_mbid.isNull())\n",
    "df_null_mbid.count()\n"
   ]
  },
  {
   "cell_type": "code",
   "execution_count": null,
   "metadata": {},
   "outputs": [],
   "source": [
    "#check if any row has no artist name\n",
    "df_null_mbid.filter(df_null_mbid.artist_name.isNull()).count()\n"
   ]
  },
  {
   "cell_type": "code",
   "execution_count": null,
   "metadata": {},
   "outputs": [],
   "source": [
    "#get unique rows with artist_name to avoid expensive join\n",
    "df_unique_artist = df_null_mbid.dropDuplicates(['artist_name'])\n",
    "print(df_unique_artist.count())\n",
    "df_unique_artist.show()"
   ]
  },
  {
   "cell_type": "code",
   "execution_count": null,
   "metadata": {},
   "outputs": [],
   "source": [
    "newDF=df_unique_artist.join(df_artists,levenshtein(df_unique_artist['artist_name'], df_artists['artist_mb']) < 1, 'leftouter')"
   ]
  },
  {
   "cell_type": "code",
   "execution_count": null,
   "metadata": {},
   "outputs": [],
   "source": [
    "newDF.count()"
   ]
  },
  {
   "cell_type": "code",
   "execution_count": null,
   "metadata": {},
   "outputs": [],
   "source": [
    "#print(newDF.count())\n",
    "newDF[['artist_name','mbid', 'artist_mb']].show()"
   ]
  },
  {
   "cell_type": "code",
   "execution_count": null,
   "metadata": {},
   "outputs": [],
   "source": [
    "#from fuzzywuzzy import fuzz"
   ]
  },
  {
   "cell_type": "code",
   "execution_count": null,
   "metadata": {},
   "outputs": [],
   "source": [
    "#fuzz.token_sort_ratio(Str1,Str2)\n",
    "#newDF=df_unique_artist.join(df_artists,fuzz.token_sort_ratio(df_unique_artist['artist_name'], df_artists['artist_mb']) > 90, 'left_semi')"
   ]
  },
  {
   "cell_type": "code",
   "execution_count": null,
   "metadata": {},
   "outputs": [],
   "source": [
    "df_musicbrainz_artist.show(2)"
   ]
  },
  {
   "cell_type": "code",
   "execution_count": null,
   "metadata": {},
   "outputs": [],
   "source": [
    "#get unique rows with artist_name to avoid expensive join\n",
    "df_unique_musicbrainz_artist = df_musicbrainz_artist.dropDuplicates(['sort_name'])\n",
    "df_unique_musicbrainz_artist.count()"
   ]
  },
  {
   "cell_type": "code",
   "execution_count": null,
   "metadata": {},
   "outputs": [],
   "source": [
    "#get unique rows with df_kaggle_artists to avoid expensive join\n",
    "df_kaggle_unique_artists = df_kaggle_artists.dropDuplicates(['artist_mb'])\n",
    "df_kaggle_unique_artists.count()\n"
   ]
  },
  {
   "cell_type": "code",
   "execution_count": null,
   "metadata": {},
   "outputs": [],
   "source": [
    "spark.conf.set(\"spark.sql.autoBroadcastJoinThreshold\", 1*1024*1024*1024)\n",
    "df_unique_artist = df_unique_artist.repartition(1)\n",
    "df_unique_musicbrainz_artist = df_unique_musicbrainz_artist.repartition(1)\n",
    "newDF=df_unique_artist.join(df_unique_musicbrainz_artist,levenshtein(df_unique_artist['artist_name'], df_unique_musicbrainz_artist['sort_name']) < 1, 'left')"
   ]
  },
  {
   "cell_type": "code",
   "execution_count": null,
   "metadata": {},
   "outputs": [],
   "source": [
    "newDF.createOrReplaceTempView(\"MBID_JOIN\")\n",
    "\n",
    "#sql(\"SELECT col1, col2 FROM V_JOIN\")"
   ]
  },
  {
   "cell_type": "code",
   "execution_count": null,
   "metadata": {},
   "outputs": [],
   "source": []
  },
  {
   "cell_type": "code",
   "execution_count": null,
   "metadata": {},
   "outputs": [],
   "source": [
    "newDF.filter(newDF.gid.isNull()).count()"
   ]
  },
  {
   "cell_type": "code",
   "execution_count": null,
   "metadata": {},
   "outputs": [],
   "source": [
    "newDF[['artist_name','gid', 'sort_name']].show()"
   ]
  },
  {
   "cell_type": "markdown",
   "metadata": {},
   "source": [
    "## Persist datasets to temporary tables"
   ]
  },
  {
   "cell_type": "code",
   "execution_count": null,
   "metadata": {},
   "outputs": [],
   "source": [
    "df_track_details.registerTempTable(\"track_details\")\n",
    "df_weeklyTop200.registerTempTable(\"weeklyTop200\")\n",
    "\n",
    "df_kaggle_unique_artists.registerTempTable(\"kaggle_unique_artists\")\n",
    "df_unique_musicbrainz_artist.registerTempTable(\"unique_musicbrainz_artist\")\n",
    "df_unique_artist.registerTempTable(\"unique_artist\")"
   ]
  },
  {
   "cell_type": "code",
   "execution_count": null,
   "metadata": {},
   "outputs": [],
   "source": [
    "from pyspark.sql import SQLContext\n",
    "sqlContext = SQLContext(sc)\n",
    "\n",
    "rs_artist = sqlContext.sql('''\n",
    "select ua.track_spotifyID,ua.artist_spotifyID, ua.artist_name,ka.artist_mb, ka.mbid \\\n",
    "from unique_artist ua, kaggle_unique_artists ka \\\n",
    "where ka.artist_mb = ua.artist_name''')\n",
    "rs_artist.count()\n"
   ]
  },
  {
   "cell_type": "code",
   "execution_count": null,
   "metadata": {},
   "outputs": [],
   "source": [
    "rs_artist.show()"
   ]
  },
  {
   "cell_type": "code",
   "execution_count": 6,
   "metadata": {},
   "outputs": [],
   "source": [
    "import requests\n",
    "import json, csv\n",
    "import pandas as pd\n",
    "from pandas.io.json import json_normalize\n",
    "#from pandas import json_normalize\n",
    "from datetime import datetime\n",
    "import numpy as np\n",
    "API_KEY = 'a28a5c24b56cd7957413ffffe0b4b3fa'\n",
    "\n",
    "def lastFM_get_mbid(artist_name):\n",
    "    try:\n",
    "        r = requests.get('http://ws.audioscrobbler.com/2.0/?method=artist.getinfo&artist='+ artist_name  +'&api_key='+ API_KEY + '&format=json')\n",
    "        result = r.content\n",
    "        json_data = json.loads(r.text)\n",
    "        df = json_normalize(json_data['artist'])     \n",
    "        return str(df.mbid[0])\n",
    "    except:\n",
    "        return ''"
   ]
  },
  {
   "cell_type": "code",
   "execution_count": 7,
   "metadata": {},
   "outputs": [],
   "source": [
    "#df_loop = df_null_mbid\n",
    "ls_mbid = []\n",
    "for row in df_null_mbid.collect():    \n",
    "    ls_mbid.append(lastFM_get_mbid(row.artist_name))"
   ]
  },
  {
   "cell_type": "code",
   "execution_count": 13,
   "metadata": {},
   "outputs": [
    {
     "ename": "AssertionError",
     "evalue": "col should be Column",
     "output_type": "error",
     "traceback": [
      "\u001b[0;31m---------------------------------------------------------------------------\u001b[0m",
      "\u001b[0;31mAssertionError\u001b[0m                            Traceback (most recent call last)",
      "\u001b[0;32m<ipython-input-13-800bcf26c134>\u001b[0m in \u001b[0;36m<module>\u001b[0;34m\u001b[0m\n\u001b[0;32m----> 1\u001b[0;31m \u001b[0mdf_null_mbid\u001b[0m \u001b[0;34m=\u001b[0m \u001b[0mdf_null_mbid\u001b[0m\u001b[0;34m.\u001b[0m\u001b[0mwithColumn\u001b[0m\u001b[0;34m(\u001b[0m\u001b[0;34m'mbid'\u001b[0m\u001b[0;34m,\u001b[0m \u001b[0mls_mbid\u001b[0m\u001b[0;34m)\u001b[0m\u001b[0;34m\u001b[0m\u001b[0;34m\u001b[0m\u001b[0m\n\u001b[0m\u001b[1;32m      2\u001b[0m \u001b[0mdf_null_mbid\u001b[0m\u001b[0;34m.\u001b[0m\u001b[0mshow\u001b[0m\u001b[0;34m(\u001b[0m\u001b[0;34m)\u001b[0m\u001b[0;34m\u001b[0m\u001b[0;34m\u001b[0m\u001b[0m\n",
      "\u001b[0;32m~/spark/spark-2.4.0-bin-hadoop2.7/python/pyspark/sql/dataframe.py\u001b[0m in \u001b[0;36mwithColumn\u001b[0;34m(self, colName, col)\u001b[0m\n\u001b[1;32m   1986\u001b[0m \u001b[0;34m\u001b[0m\u001b[0m\n\u001b[1;32m   1987\u001b[0m         \"\"\"\n\u001b[0;32m-> 1988\u001b[0;31m         \u001b[0;32massert\u001b[0m \u001b[0misinstance\u001b[0m\u001b[0;34m(\u001b[0m\u001b[0mcol\u001b[0m\u001b[0;34m,\u001b[0m \u001b[0mColumn\u001b[0m\u001b[0;34m)\u001b[0m\u001b[0;34m,\u001b[0m \u001b[0;34m\"col should be Column\"\u001b[0m\u001b[0;34m\u001b[0m\u001b[0;34m\u001b[0m\u001b[0m\n\u001b[0m\u001b[1;32m   1989\u001b[0m         \u001b[0;32mreturn\u001b[0m \u001b[0mDataFrame\u001b[0m\u001b[0;34m(\u001b[0m\u001b[0mself\u001b[0m\u001b[0;34m.\u001b[0m\u001b[0m_jdf\u001b[0m\u001b[0;34m.\u001b[0m\u001b[0mwithColumn\u001b[0m\u001b[0;34m(\u001b[0m\u001b[0mcolName\u001b[0m\u001b[0;34m,\u001b[0m \u001b[0mcol\u001b[0m\u001b[0;34m.\u001b[0m\u001b[0m_jc\u001b[0m\u001b[0;34m)\u001b[0m\u001b[0;34m,\u001b[0m \u001b[0mself\u001b[0m\u001b[0;34m.\u001b[0m\u001b[0msql_ctx\u001b[0m\u001b[0;34m)\u001b[0m\u001b[0;34m\u001b[0m\u001b[0;34m\u001b[0m\u001b[0m\n\u001b[1;32m   1990\u001b[0m \u001b[0;34m\u001b[0m\u001b[0m\n",
      "\u001b[0;31mAssertionError\u001b[0m: col should be Column"
     ]
    }
   ],
   "source": [
    "df_null_mbid = df_null_mbid.withColumn('mbid', ls_mbid)\n",
    "df_null_mbid.show()"
   ]
  },
  {
   "cell_type": "code",
   "execution_count": 20,
   "metadata": {},
   "outputs": [
    {
     "ename": "TypeError",
     "evalue": "'DataFrame' object does not support item assignment",
     "output_type": "error",
     "traceback": [
      "\u001b[0;31m---------------------------------------------------------------------------\u001b[0m",
      "\u001b[0;31mTypeError\u001b[0m                                 Traceback (most recent call last)",
      "\u001b[0;32m<ipython-input-20-46d44ef6dc94>\u001b[0m in \u001b[0;36m<module>\u001b[0;34m\u001b[0m\n\u001b[1;32m      4\u001b[0m \u001b[0;32mfor\u001b[0m \u001b[0mrow\u001b[0m \u001b[0;32min\u001b[0m \u001b[0mdf_loop\u001b[0m\u001b[0;34m.\u001b[0m\u001b[0mcollect\u001b[0m\u001b[0;34m(\u001b[0m\u001b[0;34m)\u001b[0m\u001b[0;34m:\u001b[0m\u001b[0;34m\u001b[0m\u001b[0;34m\u001b[0m\u001b[0m\n\u001b[1;32m      5\u001b[0m     \u001b[0mls_mbid\u001b[0m\u001b[0;34m.\u001b[0m\u001b[0mappend\u001b[0m\u001b[0;34m(\u001b[0m\u001b[0mlastFM_get_mbid\u001b[0m\u001b[0;34m(\u001b[0m\u001b[0mrow\u001b[0m\u001b[0;34m.\u001b[0m\u001b[0martist_name\u001b[0m\u001b[0;34m)\u001b[0m\u001b[0;34m)\u001b[0m\u001b[0;34m\u001b[0m\u001b[0;34m\u001b[0m\u001b[0m\n\u001b[0;32m----> 6\u001b[0;31m \u001b[0mdf_loop\u001b[0m\u001b[0;34m[\u001b[0m\u001b[0;34m'lastFM_mbid'\u001b[0m\u001b[0;34m]\u001b[0m \u001b[0;34m=\u001b[0m \u001b[0mls_mbid\u001b[0m\u001b[0;34m\u001b[0m\u001b[0;34m\u001b[0m\u001b[0m\n\u001b[0m",
      "\u001b[0;31mTypeError\u001b[0m: 'DataFrame' object does not support item assignment"
     ]
    }
   ],
   "source": [
    "df_loop  = df_null_mbid\n",
    "#df_loop = df_null_mbid\n",
    "ls_mbid = []\n",
    "for row in df_loop.collect():\n",
    "    ls_mbid.append(lastFM_get_mbid(row.artist_name))\n",
    "df_loop['lastFM_mbid'] = ls_mbid"
   ]
  },
  {
   "cell_type": "code",
   "execution_count": 25,
   "metadata": {},
   "outputs": [],
   "source": [
    "#df_null_mbid = df_null_mbid.withColumn(\"mbid2\", ls_mbid)\n",
    "\n",
    "df_loop = df_loop.select(\"*\").toPandas()"
   ]
  },
  {
   "cell_type": "code",
   "execution_count": 28,
   "metadata": {},
   "outputs": [
    {
     "data": {
      "text/html": [
       "<div>\n",
       "<style scoped>\n",
       "    .dataframe tbody tr th:only-of-type {\n",
       "        vertical-align: middle;\n",
       "    }\n",
       "\n",
       "    .dataframe tbody tr th {\n",
       "        vertical-align: top;\n",
       "    }\n",
       "\n",
       "    .dataframe thead th {\n",
       "        text-align: right;\n",
       "    }\n",
       "</style>\n",
       "<table border=\"1\" class=\"dataframe\">\n",
       "  <thead>\n",
       "    <tr style=\"text-align: right;\">\n",
       "      <th></th>\n",
       "      <th>track_spotifyID</th>\n",
       "      <th>artist_spotifyID</th>\n",
       "      <th>artist_mbid</th>\n",
       "      <th>artist_name</th>\n",
       "      <th>track_url</th>\n",
       "      <th>track_popularity</th>\n",
       "      <th>track_duration_ms</th>\n",
       "      <th>track_is_local</th>\n",
       "      <th>albumID</th>\n",
       "      <th>album_track_number</th>\n",
       "      <th>album_release_date</th>\n",
       "      <th>album_type</th>\n",
       "    </tr>\n",
       "  </thead>\n",
       "  <tbody>\n",
       "    <tr>\n",
       "      <td>0</td>\n",
       "      <td>5itOtNx0WxtJmi1TQ3RuRd</td>\n",
       "      <td>4f9iBmdUOhQWeP7dcAn1pf</td>\n",
       "      <td></td>\n",
       "      <td>Rag'n'Bone Man</td>\n",
       "      <td>https://open.spotify.com/track/5itOtNx0WxtJmi1...</td>\n",
       "      <td>80</td>\n",
       "      <td>229184</td>\n",
       "      <td>False</td>\n",
       "      <td>4PwXTHenZZx7ebgsnTM65K</td>\n",
       "      <td>1</td>\n",
       "      <td>2019-01-11</td>\n",
       "      <td>single</td>\n",
       "    </tr>\n",
       "    <tr>\n",
       "      <td>1</td>\n",
       "      <td>2VxeLyX666F8uXCJ0dZF8B</td>\n",
       "      <td>4VIvfOurcf0vuLRxLkGnIG</td>\n",
       "      <td></td>\n",
       "      <td>Bradley Cooper</td>\n",
       "      <td>https://open.spotify.com/track/2VxeLyX666F8uXC...</td>\n",
       "      <td>86</td>\n",
       "      <td>215733</td>\n",
       "      <td>False</td>\n",
       "      <td>4sLtOBOzn4s3GDUv3c5oJD</td>\n",
       "      <td>12</td>\n",
       "      <td>2018-10-05</td>\n",
       "      <td>album</td>\n",
       "    </tr>\n",
       "    <tr>\n",
       "      <td>2</td>\n",
       "      <td>2cytBOLpwFRX7J9URCrFIe</td>\n",
       "      <td>31Ua7zSTJxegjyd49ujbSA</td>\n",
       "      <td>ecebea6a-c064-4409-9699-b0bf6b5df720</td>\n",
       "      <td>NSG</td>\n",
       "      <td>https://open.spotify.com/track/2cytBOLpwFRX7J9...</td>\n",
       "      <td>69</td>\n",
       "      <td>240081</td>\n",
       "      <td>False</td>\n",
       "      <td>35MvbFXqp1ESDkKNqYfOIM</td>\n",
       "      <td>1</td>\n",
       "      <td>2018-11-30</td>\n",
       "      <td>single</td>\n",
       "    </tr>\n",
       "    <tr>\n",
       "      <td>3</td>\n",
       "      <td>2cytBOLpwFRX7J9URCrFIe</td>\n",
       "      <td>7b79bQFziJFedJb75k6hFt</td>\n",
       "      <td></td>\n",
       "      <td>Tion Wayne</td>\n",
       "      <td>https://open.spotify.com/track/2cytBOLpwFRX7J9...</td>\n",
       "      <td>69</td>\n",
       "      <td>240081</td>\n",
       "      <td>False</td>\n",
       "      <td>35MvbFXqp1ESDkKNqYfOIM</td>\n",
       "      <td>1</td>\n",
       "      <td>2018-11-30</td>\n",
       "      <td>single</td>\n",
       "    </tr>\n",
       "    <tr>\n",
       "      <td>4</td>\n",
       "      <td>1fp2uoWXPca3mIdxRHIgQm</td>\n",
       "      <td>1Gm0kKaDx4GH6pQF88rjSK</td>\n",
       "      <td>c872f796-1497-49d2-8c29-852baa3ede69</td>\n",
       "      <td>Cadet</td>\n",
       "      <td>https://open.spotify.com/track/1fp2uoWXPca3mId...</td>\n",
       "      <td>65</td>\n",
       "      <td>192571</td>\n",
       "      <td>False</td>\n",
       "      <td>4wOuGy0YTmOHjHIUo6drO8</td>\n",
       "      <td>1</td>\n",
       "      <td>2018-09-14</td>\n",
       "      <td>single</td>\n",
       "    </tr>\n",
       "  </tbody>\n",
       "</table>\n",
       "</div>"
      ],
      "text/plain": [
       "          track_spotifyID        artist_spotifyID  \\\n",
       "0  5itOtNx0WxtJmi1TQ3RuRd  4f9iBmdUOhQWeP7dcAn1pf   \n",
       "1  2VxeLyX666F8uXCJ0dZF8B  4VIvfOurcf0vuLRxLkGnIG   \n",
       "2  2cytBOLpwFRX7J9URCrFIe  31Ua7zSTJxegjyd49ujbSA   \n",
       "3  2cytBOLpwFRX7J9URCrFIe  7b79bQFziJFedJb75k6hFt   \n",
       "4  1fp2uoWXPca3mIdxRHIgQm  1Gm0kKaDx4GH6pQF88rjSK   \n",
       "\n",
       "                            artist_mbid     artist_name  \\\n",
       "0                                        Rag'n'Bone Man   \n",
       "1                                        Bradley Cooper   \n",
       "2  ecebea6a-c064-4409-9699-b0bf6b5df720             NSG   \n",
       "3                                            Tion Wayne   \n",
       "4  c872f796-1497-49d2-8c29-852baa3ede69           Cadet   \n",
       "\n",
       "                                           track_url track_popularity  \\\n",
       "0  https://open.spotify.com/track/5itOtNx0WxtJmi1...               80   \n",
       "1  https://open.spotify.com/track/2VxeLyX666F8uXC...               86   \n",
       "2  https://open.spotify.com/track/2cytBOLpwFRX7J9...               69   \n",
       "3  https://open.spotify.com/track/2cytBOLpwFRX7J9...               69   \n",
       "4  https://open.spotify.com/track/1fp2uoWXPca3mId...               65   \n",
       "\n",
       "  track_duration_ms track_is_local                 albumID album_track_number  \\\n",
       "0            229184          False  4PwXTHenZZx7ebgsnTM65K                  1   \n",
       "1            215733          False  4sLtOBOzn4s3GDUv3c5oJD                 12   \n",
       "2            240081          False  35MvbFXqp1ESDkKNqYfOIM                  1   \n",
       "3            240081          False  35MvbFXqp1ESDkKNqYfOIM                  1   \n",
       "4            192571          False  4wOuGy0YTmOHjHIUo6drO8                  1   \n",
       "\n",
       "  album_release_date album_type  \n",
       "0         2019-01-11     single  \n",
       "1         2018-10-05      album  \n",
       "2         2018-11-30     single  \n",
       "3         2018-11-30     single  \n",
       "4         2018-09-14     single  "
      ]
     },
     "execution_count": 28,
     "metadata": {},
     "output_type": "execute_result"
    }
   ],
   "source": [
    "df_loop['artist_mbid'] = ls_mbid\n",
    "df_loop.head()\n"
   ]
  },
  {
   "cell_type": "code",
   "execution_count": 46,
   "metadata": {},
   "outputs": [
    {
     "data": {
      "text/plain": [
       "track_spotifyID       0\n",
       "artist_spotifyID      0\n",
       "artist_mbid           0\n",
       "artist_name           0\n",
       "track_url             0\n",
       "track_popularity      0\n",
       "track_duration_ms     0\n",
       "track_is_local        0\n",
       "albumID               0\n",
       "album_track_number    0\n",
       "album_release_date    0\n",
       "album_type            0\n",
       "dtype: int64"
      ]
     },
     "execution_count": 46,
     "metadata": {},
     "output_type": "execute_result"
    }
   ],
   "source": [
    "df_loop[df_loop['artist_mbid'].isnull()].count()\n"
   ]
  }
 ],
 "metadata": {
  "kernelspec": {
   "display_name": "Python 3",
   "language": "python",
   "name": "python3"
  },
  "language_info": {
   "codemirror_mode": {
    "name": "ipython",
    "version": 3
   },
   "file_extension": ".py",
   "mimetype": "text/x-python",
   "name": "python",
   "nbconvert_exporter": "python",
   "pygments_lexer": "ipython3",
   "version": "3.7.4"
  }
 },
 "nbformat": 4,
 "nbformat_minor": 4
}
