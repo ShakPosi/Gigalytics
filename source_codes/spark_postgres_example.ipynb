{
 "cells": [
  {
   "cell_type": "code",
   "execution_count": 1,
   "metadata": {},
   "outputs": [],
   "source": [
    "import os\n",
    "os.environ[\"SPARK_HOME\"] = \"/home/osboxes/spark/spark-2.4.0-bin-hadoop2.7/\"\n",
    "\n",
    "import findspark\n",
    "findspark.init()\n",
    "findspark.find()\n",
    "import pyspark\n",
    "from pyspark import SparkContext, SparkConf\n",
    "from pyspark.sql import SparkSession\n",
    "from pyspark.sql.functions import levenshtein \n",
    "conf = pyspark.SparkConf().setAppName('appName').setMaster('local')\n",
    "#conf = pyspark.SparkConf().setAppName('appName').setMaster('spark://192.168.11.128:8080')\n",
    "\n",
    "sc = pyspark.SparkContext(conf=conf)\n",
    "spark = SparkSession(sc)\n",
    "\n",
    "#spark.enableHiveSupport()"
   ]
  },
  {
   "cell_type": "code",
   "execution_count": 6,
   "metadata": {},
   "outputs": [
    {
     "data": {
      "text/plain": [
       "StructType(List(StructField(Position,IntegerType,false),StructField(Track_Name,StringType,false),StructField(Artist,StringType,false),StructField(Streams,FloatType,true),StructField(Date,StringType,false),StructField(region,StringType,false),StructField(spotify_id,StringType,false)))"
      ]
     },
     "execution_count": 6,
     "metadata": {},
     "output_type": "execute_result"
    }
   ],
   "source": [
    "from pyspark.sql.types import *\n",
    "simpleSchema = [StructField(\"Position\",IntegerType(),False),\n",
    "                StructField(\"Track_Name\",StringType(),False),\n",
    "                StructField(\"Artist\",StringType(),False),\n",
    "                StructField(\"Streams\",FloatType(),True),                \n",
    "                StructField(\"Date\", StringType(),False),\n",
    "                StructField(\"region\", StringType(), False),\n",
    "                StructField(\"spotify_id\",StringType(),False),\n",
    "               ]\n",
    "\n",
    "simple_struct = StructType(fields=simpleSchema)\n",
    "simple_struct\n",
    "\n",
    "\n"
   ]
  },
  {
   "cell_type": "code",
   "execution_count": null,
   "metadata": {},
   "outputs": [],
   "source": [
    "def set_Schema(cols):\n",
    "    simpleSchema = []\n",
    "    \n",
    "    for i in cols: \n",
    "        simpleSchema.append(StructField(i[0],i[1],i[2])) \n",
    "        \n",
    "    return StructType(fields=simpleSchema)"
   ]
  },
  {
   "cell_type": "code",
   "execution_count": null,
   "metadata": {},
   "outputs": [],
   "source": [
    "columns = [('Position',IntegerType(), False ),\n",
    "           ('Track Name',StringType(), False), \n",
    "           ('Artist', StringType(), False), \n",
    "           ('Streams', FloatType(), False), \n",
    "           ('Date', StringType(), False), \n",
    "           ('region', StringType(), False), \n",
    "           ('spotify_id', StringType(), True)]\n",
    "simple_struct = set_Schema(columns)\n",
    "simple_struct"
   ]
  },
  {
   "cell_type": "markdown",
   "metadata": {},
   "source": [
    "## Reading ftom postgres tables"
   ]
  },
  {
   "cell_type": "code",
   "execution_count": 2,
   "metadata": {},
   "outputs": [],
   "source": [
    "\n",
    "jdbcDF2 = spark.read \\\n",
    "    .jdbc(\"jdbc:postgresql://osboxes:5432/postgres\", \"spotify_top_200_weekly\", \\\n",
    "          properties={\"user\": \"postgres\", \"password\": \"postgres\"})"
   ]
  },
  {
   "cell_type": "code",
   "execution_count": 28,
   "metadata": {},
   "outputs": [
    {
     "name": "stdout",
     "output_type": "stream",
     "text": [
      "+--------+--------------------+------+-------+--------------------+------+--------------------+\n",
      "|Position|          Track Name|Artist|Streams|                date|region|          spotify_id|\n",
      "+--------+--------------------+------+-------+--------------------+------+--------------------+\n",
      "|      47|Yah Yah (feat. Ro...|Eminem| 968088|2020-01-17--2020-...|    gb|5mZXWEH2eh8zMZGCx...|\n",
      "|      83|Yah Yah (feat. Ro...|Eminem|8695060|2020-01-17--2020-...|global|5mZXWEH2eh8zMZGCx...|\n",
      "|     136|Yah Yah (feat. Ro...|Eminem| 485054|2020-01-24--2020-...|    gb|5mZXWEH2eh8zMZGCx...|\n",
      "+--------+--------------------+------+-------+--------------------+------+--------------------+\n",
      "\n"
     ]
    }
   ],
   "source": [
    "jdbcDF2.count()\n",
    "jdbcDF2.filter(jdbcDF2.spotify_id=='5mZXWEH2eh8zMZGCxT5aW0').show()\n"
   ]
  },
  {
   "cell_type": "markdown",
   "metadata": {},
   "source": [
    "## Option to add to spark.read.csv to ensure string in quotes and commas are treated as one"
   ]
  },
  {
   "cell_type": "code",
   "execution_count": 31,
   "metadata": {},
   "outputs": [
    {
     "name": "stdout",
     "output_type": "stream",
     "text": [
      "-RECORD 0----------------------------------------------\n",
      " Position   | 1                                        \n",
      " Track_Name | Someone You Loved                        \n",
      " Artist     | Lewis Capaldi                            \n",
      " Streams    | 3338234                                  \n",
      " date       | 2019-03-01--2019-03-08                   \n",
      " region     | gb                                       \n",
      " spotify_id | 2TIlqbIneP0ZY1O0EzYLlc                   \n",
      " start_date | 2019-03-01                               \n",
      " end_date   | 2019-03-08                               \n",
      "-RECORD 1----------------------------------------------\n",
      " Position   | 2                                        \n",
      " Track_Name | break up with your girlfriend, i'm bored \n",
      " Artist     | Ariana Grande                            \n",
      " Streams    | 3041558                                  \n",
      " date       | 2019-03-01--2019-03-08                   \n",
      " region     | gb                                       \n",
      " spotify_id | 4kV4N9D1iKVxx1KLvtTpjS                   \n",
      " start_date | 2019-03-01                               \n",
      " end_date   | 2019-03-08                               \n",
      "only showing top 2 rows\n",
      "\n"
     ]
    }
   ],
   "source": [
    "from pyspark.sql.functions import col, split\n",
    "#df_weeklyTop200 = spark.read.csv('../datasets/spotify_top_200_weekly.csv', header=True, nullValue='', schema=simple_struct)\n",
    "df_weeklyTop200 = spark.read.csv('../datasets/spotify_top_200_weekly.csv',header=True,encoding=\"UTF-8\", quote='\"',escape='\"') \n",
    "                                            \n",
    "'''                                             \n",
    "multiLine=True, \n",
    "ignoreLeadingWhiteSpace=True, \n",
    "ignoreTrailingWhiteSpace=True, \n",
    "encoding=\"UTF-8\",\n",
    "sep=',',                                            \n",
    "maxColumns=2,inferSchema=True)\n",
    "'''\n",
    "\n",
    "df_weeklyTop200 = df_weeklyTop200.withColumnRenamed(\"Track Name\",\"Track_Name\")\n",
    "df_weeklyTop200 = df_weeklyTop200.withColumn(\"start_date\", split(col(\"date\"), \"--\").getItem(0)).withColumn(\"end_date\", split(col(\"date\"), \"--\").getItem(1))\n",
    "df_weeklyTop200.show(2, truncate=False, vertical =True)"
   ]
  },
  {
   "cell_type": "code",
   "execution_count": null,
   "metadata": {},
   "outputs": [],
   "source": [
    "df_weeklyTop200.printSchema()"
   ]
  },
  {
   "cell_type": "code",
   "execution_count": 32,
   "metadata": {
    "scrolled": true
   },
   "outputs": [
    {
     "name": "stdout",
     "output_type": "stream",
     "text": [
      "-RECORD 0--------------------------\n",
      " summary    | count                \n",
      " Position   | 20800                \n",
      " Track_Name | 20800                \n",
      " Artist     | 20800                \n",
      " Streams    | 20800                \n",
      " date       | 20800                \n",
      " region     | 20800                \n",
      " spotify_id | 20800                \n",
      " start_date | 20800                \n",
      " end_date   | 20800                \n",
      "-RECORD 1--------------------------\n",
      " summary    | mean                 \n",
      " Position   | 100.5                \n",
      " Track_Name | 1619.2583333333334   \n",
      " Artist     | null                 \n",
      " Streams    | 4779709.056682692    \n",
      " date       | null                 \n",
      " region     | null                 \n",
      " spotify_id | null                 \n",
      " start_date | null                 \n",
      " end_date   | null                 \n",
      "-RECORD 2--------------------------\n",
      " summary    | stddev               \n",
      " Position   | 57.735693120535515   \n",
      " Track_Name | 752.4803188004807    \n",
      " Artist     | null                 \n",
      " Streams    | 5885641.043877848    \n",
      " date       | null                 \n",
      " region     | null                 \n",
      " spotify_id | null                 \n",
      " start_date | null                 \n",
      " end_date   | null                 \n",
      "-RECORD 3--------------------------\n",
      " summary    | min                  \n",
      " Position   | 1                    \n",
      " Track_Name | !                    \n",
      " Artist     | *NSYNC               \n",
      " Streams    | 1000100              \n",
      " date       | 2019-03-01--2019-... \n",
      " region     | gb                   \n",
      " spotify_id | 00ko9WaS4jOX1kEk3... \n",
      " start_date | 2019-03-01           \n",
      " end_date   | 2019-03-08           \n",
      "-RECORD 4--------------------------\n",
      " summary    | max                  \n",
      " Position   | 99                   \n",
      " Track_Name | you should see me... \n",
      " Artist     | tha Supreme          \n",
      " Streams    | 999940               \n",
      " date       | 2020-02-21--2020-... \n",
      " region     | global               \n",
      " spotify_id | 7zXa0myk5r5ex9QfX... \n",
      " start_date | 2020-02-21           \n",
      " end_date   | 2020-02-28           \n",
      "\n"
     ]
    }
   ],
   "source": [
    "df_weeklyTop200.describe().show(vertical=True)"
   ]
  },
  {
   "cell_type": "code",
   "execution_count": null,
   "metadata": {},
   "outputs": [],
   "source": [
    "df_weeklyTop200.show()"
   ]
  },
  {
   "cell_type": "code",
   "execution_count": 30,
   "metadata": {},
   "outputs": [
    {
     "name": "stdout",
     "output_type": "stream",
     "text": [
      "root\n",
      " |-- Position: string (nullable = true)\n",
      " |-- Track_Name: string (nullable = true)\n",
      " |-- Artist: string (nullable = true)\n",
      " |-- Streams: string (nullable = true)\n",
      " |-- date: string (nullable = true)\n",
      " |-- region: string (nullable = true)\n",
      " |-- spotify_id: string (nullable = true)\n",
      " |-- start_date: date (nullable = true)\n",
      " |-- end_date: date (nullable = true)\n",
      "\n"
     ]
    }
   ],
   "source": [
    "df_weeklyTop200 = df_weeklyTop200.withColumn(\"start_date\", df_weeklyTop200[\"start_date\"].cast(DateType()))\n",
    "df_weeklyTop200 = df_weeklyTop200.withColumn(\"end_date\", df_weeklyTop200[\"end_date\"].cast(DateType()))\n",
    "df_weeklyTop200.printSchema()\n"
   ]
  },
  {
   "cell_type": "code",
   "execution_count": 27,
   "metadata": {},
   "outputs": [
    {
     "name": "stdout",
     "output_type": "stream",
     "text": [
      "+--------+--------------------+------+-------+--------------------+------+--------------------+----------+----------+\n",
      "|Position|          Track_Name|Artist|Streams|                date|region|          spotify_id|start_date|  end_date|\n",
      "+--------+--------------------+------+-------+--------------------+------+--------------------+----------+----------+\n",
      "|      47|Yah Yah (feat. Ro...|Eminem| 968088|2020-01-17--2020-...|    gb|5mZXWEH2eh8zMZGCx...|2020-01-17|2020-01-24|\n",
      "|      83|Yah Yah (feat. Ro...|Eminem|8695060|2020-01-17--2020-...|global|5mZXWEH2eh8zMZGCx...|2020-01-17|2020-01-24|\n",
      "|     136|Yah Yah (feat. Ro...|Eminem| 485054|2020-01-24--2020-...|    gb|5mZXWEH2eh8zMZGCx...|2020-01-24|2020-01-31|\n",
      "+--------+--------------------+------+-------+--------------------+------+--------------------+----------+----------+\n",
      "\n"
     ]
    }
   ],
   "source": [
    "df_weeklyTop200.filter(df_weeklyTop200.spotify_id == '5mZXWEH2eh8zMZGCxT5aW0').show()"
   ]
  },
  {
   "cell_type": "code",
   "execution_count": null,
   "metadata": {},
   "outputs": [],
   "source": [
    "df_weeklyTop200.createOrReplaceTempView('df_weeklyTop200')\n",
    "df_weeklyTop200.count()"
   ]
  },
  {
   "cell_type": "code",
   "execution_count": null,
   "metadata": {},
   "outputs": [],
   "source": [
    "spark.sql(\"select * from df_weeklyTop200 where region <> 'global'and region <> 'gb'\").show()\n",
    "spark.sql(\"select * from df_weeklyTop200\").count()"
   ]
  },
  {
   "cell_type": "code",
   "execution_count": null,
   "metadata": {},
   "outputs": [],
   "source": [
    "spark.sql(\"select * from df_weeklyTop200 \\\n",
    "          where start_date = '2020-01-17' and end_date = '2020-01-24' \\\n",
    "          and position in (47,83)\").show(vertical =True, truncate=False)\n",
    "\n"
   ]
  },
  {
   "cell_type": "code",
   "execution_count": null,
   "metadata": {},
   "outputs": [],
   "source": [
    "df.write \\\n",
    "    .jdbc(\"jdbc:postgresql://osboxes:5432/postgres\", \"spotify_top_200_weekly\",\n",
    "          properties={\"user\": \"postgres\", \"password\": \"postgres\"})"
   ]
  }
 ],
 "metadata": {
  "kernelspec": {
   "display_name": "Python 3",
   "language": "python",
   "name": "python3"
  },
  "language_info": {
   "codemirror_mode": {
    "name": "ipython",
    "version": 3
   },
   "file_extension": ".py",
   "mimetype": "text/x-python",
   "name": "python",
   "nbconvert_exporter": "python",
   "pygments_lexer": "ipython3",
   "version": "3.7.4"
  }
 },
 "nbformat": 4,
 "nbformat_minor": 2
}
