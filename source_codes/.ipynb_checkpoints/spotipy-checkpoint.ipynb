{
 "cells": [
  {
   "cell_type": "markdown",
   "metadata": {},
   "source": [
    "# Spotify "
   ]
  },
  {
   "cell_type": "code",
   "execution_count": 1,
   "metadata": {},
   "outputs": [],
   "source": [
    "#https://github.com/plamere/spotipy/tree/master/examples\n",
    "\n",
    "import sys\n",
    "import spotipy\n",
    "from spotipy.oauth2 import SpotifyClientCredentials\n",
    "import spotipy.util as util\n",
    "\n",
    "SPOTIPY_CLIENT_ID='af7f8c950718423794701bd8cf073d76'\n",
    "SPOTIPY_CLIENT_SECRET='35f74d86eb5745c394f46b22ed40a9c4'\n",
    "\n",
    "#Mahyar\n",
    "SPOTIPY_CLIENT_ID='cf10232b7c464964b989b45aa956eef4'\n",
    "SPOTIPY_CLIENT_SECRET='ceb6022282354d7082e7055fdda4c647'\n",
    "\n",
    "client_credentials_manager = SpotifyClientCredentials(client_id=SPOTIPY_CLIENT_ID, client_secret=SPOTIPY_CLIENT_SECRET)\n",
    "sp = spotipy.Spotify(client_credentials_manager=client_credentials_manager)\n",
    "\n",
    "#remember to reference this project https://github.com/metabrainz/mbspotify\n",
    "import spotify2musicbrainz as mbSpot\n",
    "#remember to reference this project - https://github.com/kelvingakuo/fycharts\n",
    "from fycharts import SpotifyCharts, compute_dates, write_to_outputs"
   ]
  },
  {
   "cell_type": "code",
   "execution_count": 2,
   "metadata": {},
   "outputs": [
    {
     "data": {
      "text/plain": [
       "['gb']"
      ]
     },
     "execution_count": 2,
     "metadata": {},
     "output_type": "execute_result"
    }
   ],
   "source": [
    "#weeklyDates = compute_dates.whatDates('2019-03-01', '2020-02-29', 'top200Weekly')\n",
    "#weeklyDates = compute_dates.defaultListOfDates('isWeekly', 'isViral')\n",
    "DatesAndRegions = compute_dates.returnDatesAndRegions('2019-03-01', '2020-02-29',theRegs=['gb'], isWeekly=True)\n",
    "\n",
    "\n",
    "weeklyDates = DatesAndRegions['dates']\n",
    "region = DatesAndRegions['region']\n",
    "region"
   ]
  },
  {
   "cell_type": "code",
   "execution_count": 3,
   "metadata": {
    "scrolled": true
   },
   "outputs": [],
   "source": [
    "from fycharts.SpotifyCharts import SpotifyCharts\n",
    "api = SpotifyCharts()\n"
   ]
  },
  {
   "cell_type": "markdown",
   "metadata": {},
   "source": [
    "## fychart api top200weekly pools charts data from spotifycharts.com"
   ]
  },
  {
   "cell_type": "code",
   "execution_count": 11,
   "metadata": {},
   "outputs": [],
   "source": [
    "import os\n",
    "def pandasToCSV(df, ds): \n",
    "    \n",
    "   \n",
    "    #dt = datetime.today().strftime('%Y%m%d%H%M%S') #%H:%M:%S\n",
    "    csv_filename = \"../datasets/\" + ds+\".csv\"    \n",
    "    #../datasets/\n",
    "    # if file does not exist write header \n",
    "    if not os.path.isfile(csv_filename):\n",
    "        #df.to_csv('filename.csv', header='column_names')\n",
    "        df.to_csv(csv_filename, encoding='utf-8', index=False)   \n",
    "    else: # else if exists, append without the header\n",
    "        df.to_csv(csv_filename, mode='a', header=False, index=False)"
   ]
  },
  {
   "cell_type": "code",
   "execution_count": 4,
   "metadata": {},
   "outputs": [
    {
     "name": "stderr",
     "output_type": "stream",
     "text": [
      "INFO : 20/03/2020 06:21:03 PM : Extracting top 200 weekly for 2020-03-06--2020-03-13 - gb\n",
      "INFO : 20/03/2020 06:21:04 PM : Extracting top 200 weekly for 2020-03-06--2020-03-13 - global\n",
      "INFO : 20/03/2020 06:21:04 PM : Appending data to the file ../datasets/march2020/top_200_weekly.csv...\n",
      "INFO : 20/03/2020 06:21:04 PM : Done appending to the file ../datasets/march2020/top_200_weekly.csv!!!\n",
      "INFO : 20/03/2020 06:21:06 PM : Appending data to the file ../datasets/march2020/top_200_weekly.csv...\n",
      "INFO : 20/03/2020 06:21:06 PM : Done appending to the file ../datasets/march2020/top_200_weekly.csv!!!\n"
     ]
    }
   ],
   "source": [
    "#Run only when you want to fetch new date range\n",
    "#api.top200Weekly(output_file = \"../datasets/top_200_weekly.csv\", start = \"2019-03-01\", end = \"2020-02-29\", region = [\"gb\", \"global\"])"
   ]
  },
  {
   "cell_type": "code",
   "execution_count": 9,
   "metadata": {},
   "outputs": [
    {
     "data": {
      "text/html": [
       "<div>\n",
       "<style scoped>\n",
       "    .dataframe tbody tr th:only-of-type {\n",
       "        vertical-align: middle;\n",
       "    }\n",
       "\n",
       "    .dataframe tbody tr th {\n",
       "        vertical-align: top;\n",
       "    }\n",
       "\n",
       "    .dataframe thead th {\n",
       "        text-align: right;\n",
       "    }\n",
       "</style>\n",
       "<table border=\"1\" class=\"dataframe\">\n",
       "  <thead>\n",
       "    <tr style=\"text-align: right;\">\n",
       "      <th></th>\n",
       "      <th>Position</th>\n",
       "      <th>Track Name</th>\n",
       "      <th>Artist</th>\n",
       "      <th>Streams</th>\n",
       "      <th>date</th>\n",
       "      <th>region</th>\n",
       "      <th>spotify_id</th>\n",
       "    </tr>\n",
       "  </thead>\n",
       "  <tbody>\n",
       "    <tr>\n",
       "      <th>0</th>\n",
       "      <td>1</td>\n",
       "      <td>Someone You Loved</td>\n",
       "      <td>Lewis Capaldi</td>\n",
       "      <td>3338234</td>\n",
       "      <td>2019-03-01--2019-03-08</td>\n",
       "      <td>gb</td>\n",
       "      <td>2TIlqbIneP0ZY1O0EzYLlc</td>\n",
       "    </tr>\n",
       "    <tr>\n",
       "      <th>1</th>\n",
       "      <td>2</td>\n",
       "      <td>break up with your girlfriend, i'm bored</td>\n",
       "      <td>Ariana Grande</td>\n",
       "      <td>3041558</td>\n",
       "      <td>2019-03-01--2019-03-08</td>\n",
       "      <td>gb</td>\n",
       "      <td>4kV4N9D1iKVxx1KLvtTpjS</td>\n",
       "    </tr>\n",
       "    <tr>\n",
       "      <th>2</th>\n",
       "      <td>3</td>\n",
       "      <td>Giant (with Rag'n'Bone Man)</td>\n",
       "      <td>Calvin Harris</td>\n",
       "      <td>2846784</td>\n",
       "      <td>2019-03-01--2019-03-08</td>\n",
       "      <td>gb</td>\n",
       "      <td>5itOtNx0WxtJmi1TQ3RuRd</td>\n",
       "    </tr>\n",
       "    <tr>\n",
       "      <th>3</th>\n",
       "      <td>4</td>\n",
       "      <td>7 rings</td>\n",
       "      <td>Ariana Grande</td>\n",
       "      <td>2836252</td>\n",
       "      <td>2019-03-01--2019-03-08</td>\n",
       "      <td>gb</td>\n",
       "      <td>6ocbgoVGwYJhOv1GgI9NsF</td>\n",
       "    </tr>\n",
       "    <tr>\n",
       "      <th>4</th>\n",
       "      <td>5</td>\n",
       "      <td>Don't Call Me Up</td>\n",
       "      <td>Mabel</td>\n",
       "      <td>2783485</td>\n",
       "      <td>2019-03-01--2019-03-08</td>\n",
       "      <td>gb</td>\n",
       "      <td>5WHTFyqSii0lmT9R21abT8</td>\n",
       "    </tr>\n",
       "  </tbody>\n",
       "</table>\n",
       "</div>"
      ],
      "text/plain": [
       "   Position                                Track Name         Artist  Streams  \\\n",
       "0         1                         Someone You Loved  Lewis Capaldi  3338234   \n",
       "1         2  break up with your girlfriend, i'm bored  Ariana Grande  3041558   \n",
       "2         3               Giant (with Rag'n'Bone Man)  Calvin Harris  2846784   \n",
       "3         4                                   7 rings  Ariana Grande  2836252   \n",
       "4         5                          Don't Call Me Up          Mabel  2783485   \n",
       "\n",
       "                     date region              spotify_id  \n",
       "0  2019-03-01--2019-03-08     gb  2TIlqbIneP0ZY1O0EzYLlc  \n",
       "1  2019-03-01--2019-03-08     gb  4kV4N9D1iKVxx1KLvtTpjS  \n",
       "2  2019-03-01--2019-03-08     gb  5itOtNx0WxtJmi1TQ3RuRd  \n",
       "3  2019-03-01--2019-03-08     gb  6ocbgoVGwYJhOv1GgI9NsF  \n",
       "4  2019-03-01--2019-03-08     gb  5WHTFyqSii0lmT9R21abT8  "
      ]
     },
     "execution_count": 9,
     "metadata": {},
     "output_type": "execute_result"
    }
   ],
   "source": [
    "#generate csv file\n",
    "import pandas as pd\n",
    "#use pandas to read file and save it again to remove blank lines\n",
    "df_weeklyTop200 = pd.read_csv('../datasets/top_200_weekly.csv')\n",
    "pandasToCSV(df_weeklyTop200, 'spotify_top_200_weekly')\n"
   ]
  },
  {
   "cell_type": "code",
   "execution_count": 12,
   "metadata": {
    "scrolled": true
   },
   "outputs": [
    {
     "data": {
      "text/html": [
       "<div>\n",
       "<style scoped>\n",
       "    .dataframe tbody tr th:only-of-type {\n",
       "        vertical-align: middle;\n",
       "    }\n",
       "\n",
       "    .dataframe tbody tr th {\n",
       "        vertical-align: top;\n",
       "    }\n",
       "\n",
       "    .dataframe thead th {\n",
       "        text-align: right;\n",
       "    }\n",
       "</style>\n",
       "<table border=\"1\" class=\"dataframe\">\n",
       "  <thead>\n",
       "    <tr style=\"text-align: right;\">\n",
       "      <th></th>\n",
       "      <th>Position</th>\n",
       "      <th>Track Name</th>\n",
       "      <th>Artist</th>\n",
       "      <th>Streams</th>\n",
       "      <th>date</th>\n",
       "      <th>region</th>\n",
       "      <th>spotify_id</th>\n",
       "    </tr>\n",
       "  </thead>\n",
       "  <tbody>\n",
       "    <tr>\n",
       "      <th>20500</th>\n",
       "      <td>101</td>\n",
       "      <td>BOP</td>\n",
       "      <td>DaBaby</td>\n",
       "      <td>536603</td>\n",
       "      <td>2020-02-21--2020-02-28</td>\n",
       "      <td>gb</td>\n",
       "      <td>6Ozh9Ok6h4Oi1wUSLtBseN</td>\n",
       "    </tr>\n",
       "    <tr>\n",
       "      <th>20501</th>\n",
       "      <td>102</td>\n",
       "      <td>No Idea</td>\n",
       "      <td>Don Toliver</td>\n",
       "      <td>531490</td>\n",
       "      <td>2020-02-21--2020-02-28</td>\n",
       "      <td>gb</td>\n",
       "      <td>3VyjsVV24RmBIbWJAeUJNu</td>\n",
       "    </tr>\n",
       "    <tr>\n",
       "      <th>20502</th>\n",
       "      <td>103</td>\n",
       "      <td>Still Disappointed</td>\n",
       "      <td>Stormzy</td>\n",
       "      <td>528289</td>\n",
       "      <td>2020-02-21--2020-02-28</td>\n",
       "      <td>gb</td>\n",
       "      <td>78XK5PDIKWiDKcgiLl1x0o</td>\n",
       "    </tr>\n",
       "    <tr>\n",
       "      <th>20503</th>\n",
       "      <td>104</td>\n",
       "      <td>Must Be</td>\n",
       "      <td>J Hus</td>\n",
       "      <td>526226</td>\n",
       "      <td>2020-02-21--2020-02-28</td>\n",
       "      <td>gb</td>\n",
       "      <td>5vIXEk3u02WHbcD0h2ozhm</td>\n",
       "    </tr>\n",
       "    <tr>\n",
       "      <th>20504</th>\n",
       "      <td>105</td>\n",
       "      <td>Thiago Silva</td>\n",
       "      <td>Dave</td>\n",
       "      <td>518335</td>\n",
       "      <td>2020-02-21--2020-02-28</td>\n",
       "      <td>gb</td>\n",
       "      <td>3DKCTIiJ97bS9TGiqcABjo</td>\n",
       "    </tr>\n",
       "    <tr>\n",
       "      <th>...</th>\n",
       "      <td>...</td>\n",
       "      <td>...</td>\n",
       "      <td>...</td>\n",
       "      <td>...</td>\n",
       "      <td>...</td>\n",
       "      <td>...</td>\n",
       "      <td>...</td>\n",
       "    </tr>\n",
       "    <tr>\n",
       "      <th>20595</th>\n",
       "      <td>196</td>\n",
       "      <td>2002</td>\n",
       "      <td>Anne-Marie</td>\n",
       "      <td>359121</td>\n",
       "      <td>2020-02-21--2020-02-28</td>\n",
       "      <td>gb</td>\n",
       "      <td>2BgEsaKNfHUdlh97KmvFyo</td>\n",
       "    </tr>\n",
       "    <tr>\n",
       "      <th>20596</th>\n",
       "      <td>197</td>\n",
       "      <td>Dancing in the Moonlight</td>\n",
       "      <td>Toploader</td>\n",
       "      <td>357958</td>\n",
       "      <td>2020-02-21--2020-02-28</td>\n",
       "      <td>gb</td>\n",
       "      <td>3Fzlg5r1IjhLk2qRw667od</td>\n",
       "    </tr>\n",
       "    <tr>\n",
       "      <th>20597</th>\n",
       "      <td>198</td>\n",
       "      <td>Africa</td>\n",
       "      <td>TOTO</td>\n",
       "      <td>357620</td>\n",
       "      <td>2020-02-21--2020-02-28</td>\n",
       "      <td>gb</td>\n",
       "      <td>2374M0fQpWi3dLnB54qaLX</td>\n",
       "    </tr>\n",
       "    <tr>\n",
       "      <th>20598</th>\n",
       "      <td>199</td>\n",
       "      <td>Into the Unknown</td>\n",
       "      <td>Idina Menzel</td>\n",
       "      <td>357545</td>\n",
       "      <td>2020-02-21--2020-02-28</td>\n",
       "      <td>gb</td>\n",
       "      <td>3Z0oQ8r78OUaHvGPiDBR3W</td>\n",
       "    </tr>\n",
       "    <tr>\n",
       "      <th>20599</th>\n",
       "      <td>200</td>\n",
       "      <td>God Is A Dancer (with Mabel)</td>\n",
       "      <td>Tiësto</td>\n",
       "      <td>357455</td>\n",
       "      <td>2020-02-21--2020-02-28</td>\n",
       "      <td>gb</td>\n",
       "      <td>6fenHIxXuuzKB55wY4WCHP</td>\n",
       "    </tr>\n",
       "  </tbody>\n",
       "</table>\n",
       "<p>100 rows × 7 columns</p>\n",
       "</div>"
      ],
      "text/plain": [
       "       Position                    Track Name        Artist  Streams  \\\n",
       "20500       101                           BOP        DaBaby   536603   \n",
       "20501       102                       No Idea   Don Toliver   531490   \n",
       "20502       103            Still Disappointed       Stormzy   528289   \n",
       "20503       104                       Must Be         J Hus   526226   \n",
       "20504       105                  Thiago Silva          Dave   518335   \n",
       "...         ...                           ...           ...      ...   \n",
       "20595       196                          2002    Anne-Marie   359121   \n",
       "20596       197      Dancing in the Moonlight     Toploader   357958   \n",
       "20597       198                        Africa          TOTO   357620   \n",
       "20598       199              Into the Unknown  Idina Menzel   357545   \n",
       "20599       200  God Is A Dancer (with Mabel)        Tiësto   357455   \n",
       "\n",
       "                         date region              spotify_id  \n",
       "20500  2020-02-21--2020-02-28     gb  6Ozh9Ok6h4Oi1wUSLtBseN  \n",
       "20501  2020-02-21--2020-02-28     gb  3VyjsVV24RmBIbWJAeUJNu  \n",
       "20502  2020-02-21--2020-02-28     gb  78XK5PDIKWiDKcgiLl1x0o  \n",
       "20503  2020-02-21--2020-02-28     gb  5vIXEk3u02WHbcD0h2ozhm  \n",
       "20504  2020-02-21--2020-02-28     gb  3DKCTIiJ97bS9TGiqcABjo  \n",
       "...                       ...    ...                     ...  \n",
       "20595  2020-02-21--2020-02-28     gb  2BgEsaKNfHUdlh97KmvFyo  \n",
       "20596  2020-02-21--2020-02-28     gb  3Fzlg5r1IjhLk2qRw667od  \n",
       "20597  2020-02-21--2020-02-28     gb  2374M0fQpWi3dLnB54qaLX  \n",
       "20598  2020-02-21--2020-02-28     gb  3Z0oQ8r78OUaHvGPiDBR3W  \n",
       "20599  2020-02-21--2020-02-28     gb  6fenHIxXuuzKB55wY4WCHP  \n",
       "\n",
       "[100 rows x 7 columns]"
      ]
     },
     "execution_count": 12,
     "metadata": {},
     "output_type": "execute_result"
    }
   ],
   "source": [
    "df_gb_WeeklyTop200 =  df_weeklyTop200[df_weeklyTop200['region']== 'gb']\n",
    "df_gb_WeeklyTop200.tail(100)"
   ]
  },
  {
   "cell_type": "code",
   "execution_count": 13,
   "metadata": {},
   "outputs": [
    {
     "data": {
      "text/plain": [
       "1336"
      ]
     },
     "execution_count": 13,
     "metadata": {},
     "output_type": "execute_result"
    }
   ],
   "source": [
    "unique_uk_spotifyID = pd.unique(df_gb_WeeklyTop200[['spotify_id']].values.ravel('K'))\n",
    "len(unique_uk_spotifyID)"
   ]
  },
  {
   "cell_type": "code",
   "execution_count": 14,
   "metadata": {},
   "outputs": [
    {
     "data": {
      "text/plain": [
       "1850"
      ]
     },
     "execution_count": 14,
     "metadata": {},
     "output_type": "execute_result"
    }
   ],
   "source": [
    "unique_spotifyID = pd.unique(df_weeklyTop200[['spotify_id']].values.ravel('K'))\n",
    "len(unique_spotifyID)\n"
   ]
  },
  {
   "cell_type": "code",
   "execution_count": 15,
   "metadata": {},
   "outputs": [
    {
     "name": "stdout",
     "output_type": "stream",
     "text": [
      "164f0d73-1234-4e2c-8743-d77bf2191051\n"
     ]
    },
    {
     "data": {
      "text/plain": [
       "'https://open.spotify.com/track/2wrJq5XKLnmhRXHIAf9xBa'"
      ]
     },
     "execution_count": 15,
     "metadata": {},
     "output_type": "execute_result"
    }
   ],
   "source": [
    "mb_id = mbSpot.get_artist_mbid('5K4W6rqBFWDnAN6FQUkS6x')\n",
    "print(mb_id)\n",
    "mbSpot.make_spotify_url('2wrJq5XKLnmhRXHIAf9xBa', spotify_type='track')\n"
   ]
  },
  {
   "cell_type": "code",
   "execution_count": 16,
   "metadata": {},
   "outputs": [
    {
     "data": {
      "text/plain": [
       "'single'"
      ]
     },
     "execution_count": 16,
     "metadata": {},
     "output_type": "execute_result"
    }
   ],
   "source": [
    "track = sp.track('2wrJq5XKLnmhRXHIAf9xBa')\n",
    "#2TIlqbIneP0ZY1O0EzYLlc\n",
    "#4S8d14HvHb70ImctNgVzQQ\n",
    "#df_track = pd.DataFrame(track)\n",
    "df_track = pd.DataFrame(track['artists'])\n",
    "df_track.head()\n",
    "track['popularity']\n",
    "#track['release_date_precision']\n",
    "str(track['popularity']) +' ==> ' + track['name'] + ' is_local= ' + str(track['is_local'] )\n",
    "str(track['album']['release_date'])\n",
    "str(track['album']['album_type'])\n",
    "\n",
    "#str(track['album']['id'])\n",
    "#track['duration_ms']\n",
    "#track['track_number']\n",
    "\n",
    "#track"
   ]
  },
  {
   "cell_type": "code",
   "execution_count": 17,
   "metadata": {},
   "outputs": [],
   "source": [
    "def get_Track_Info(trackID):\n",
    "    #df_track = pd.DataFrame(columns = ['track_spotifyID', 'id', 'name', 'artist_mbid'])\n",
    "    \n",
    "    try:\n",
    "        track = sp.track(trackID)   \n",
    "        df_track = pd.DataFrame(track['artists'])  \n",
    "        df_track = df_track.assign(track_spotifyID = trackID)\n",
    "        df_track = df_track.assign(artist_spotifyID = df_track['id'])\n",
    "        df_track = df_track.assign(artist_mbid = get_Artist_mbid(df_track))          \n",
    "        df_track = df_track.assign(artist_name = df_track['name'])        \n",
    "        df_track = df_track.assign(track_url = mbSpot.make_spotify_url(trackID, spotify_type='track'))     \n",
    "        \n",
    "        df_track = df_track.assign(track_popularity = track['popularity'])\n",
    "        df_track = df_track.assign(track_duration_ms = track['duration_ms'])\n",
    "        df_track = df_track.assign(track_is_local = track['is_local'])        \n",
    "        df_track = df_track.assign(albumID = track['album']['id'])\n",
    "        df_track = df_track.assign(album_track_number = track['track_number'])\n",
    "        df_track = df_track.assign(album_release_date = track['album']['release_date'])\n",
    "        df_track = df_track.assign(album_type = track['album']['album_type'])        \n",
    "       \n",
    "        df_track.drop(['external_urls','href', 'id', 'name', 'type', 'uri'], axis=1, inplace=True)\n",
    "\n",
    "        #df_track = df_track[['track_spotifyID','track_url', 'id', 'name', 'artist_mbid']]\n",
    "    except:\n",
    "        df_track = pd.DataFrame(columns = ['track_spotifyID'])\n",
    "\n",
    "    return df_track"
   ]
  },
  {
   "cell_type": "code",
   "execution_count": 18,
   "metadata": {},
   "outputs": [],
   "source": [
    "#remember to reference this project https://github.com/metabrainz/mbspotify\n",
    "import spotify2musicbrainz as mbSpot\n",
    "def get_Artist_mbid(df_artist):\n",
    "    ls_mbid=[]\n",
    "    for index, row in df_artist.iterrows(): \n",
    "        ls_mbid.append(mbSpot.get_artist_mbid(row['id']))\n",
    "        \n",
    "    return ls_mbid\n",
    "    "
   ]
  },
  {
   "cell_type": "code",
   "execution_count": 19,
   "metadata": {
    "scrolled": true
   },
   "outputs": [
    {
     "data": {
      "text/html": [
       "<div>\n",
       "<style scoped>\n",
       "    .dataframe tbody tr th:only-of-type {\n",
       "        vertical-align: middle;\n",
       "    }\n",
       "\n",
       "    .dataframe tbody tr th {\n",
       "        vertical-align: top;\n",
       "    }\n",
       "\n",
       "    .dataframe thead th {\n",
       "        text-align: right;\n",
       "    }\n",
       "</style>\n",
       "<table border=\"1\" class=\"dataframe\">\n",
       "  <thead>\n",
       "    <tr style=\"text-align: right;\">\n",
       "      <th></th>\n",
       "      <th>track_spotifyID</th>\n",
       "      <th>artist_spotifyID</th>\n",
       "      <th>artist_mbid</th>\n",
       "      <th>artist_name</th>\n",
       "      <th>track_url</th>\n",
       "      <th>track_popularity</th>\n",
       "      <th>track_duration_ms</th>\n",
       "      <th>track_is_local</th>\n",
       "      <th>albumID</th>\n",
       "      <th>album_track_number</th>\n",
       "      <th>album_release_date</th>\n",
       "      <th>album_type</th>\n",
       "    </tr>\n",
       "  </thead>\n",
       "  <tbody>\n",
       "    <tr>\n",
       "      <th>0</th>\n",
       "      <td>2wrJq5XKLnmhRXHIAf9xBa</td>\n",
       "      <td>7z5WFjZAIYejWy0NI5lv4T</td>\n",
       "      <td>33cf3954-10af-4dcb-985f-9420d1fa4168</td>\n",
       "      <td>Dan + Shay</td>\n",
       "      <td>https://open.spotify.com/track/2wrJq5XKLnmhRXHIAf9xBa</td>\n",
       "      <td>89</td>\n",
       "      <td>167693</td>\n",
       "      <td>False</td>\n",
       "      <td>4ow6xJwn49gpWz7iHpOzWY</td>\n",
       "      <td>1</td>\n",
       "      <td>2019-10-04</td>\n",
       "      <td>single</td>\n",
       "    </tr>\n",
       "    <tr>\n",
       "      <th>1</th>\n",
       "      <td>2wrJq5XKLnmhRXHIAf9xBa</td>\n",
       "      <td>1uNFoZAHBGtllmzznpCI3s</td>\n",
       "      <td>e0140a67-e4d1-4f13-8a01-364355bee46e</td>\n",
       "      <td>Justin Bieber</td>\n",
       "      <td>https://open.spotify.com/track/2wrJq5XKLnmhRXHIAf9xBa</td>\n",
       "      <td>89</td>\n",
       "      <td>167693</td>\n",
       "      <td>False</td>\n",
       "      <td>4ow6xJwn49gpWz7iHpOzWY</td>\n",
       "      <td>1</td>\n",
       "      <td>2019-10-04</td>\n",
       "      <td>single</td>\n",
       "    </tr>\n",
       "  </tbody>\n",
       "</table>\n",
       "</div>"
      ],
      "text/plain": [
       "          track_spotifyID        artist_spotifyID  \\\n",
       "0  2wrJq5XKLnmhRXHIAf9xBa  7z5WFjZAIYejWy0NI5lv4T   \n",
       "1  2wrJq5XKLnmhRXHIAf9xBa  1uNFoZAHBGtllmzznpCI3s   \n",
       "\n",
       "                            artist_mbid    artist_name  \\\n",
       "0  33cf3954-10af-4dcb-985f-9420d1fa4168     Dan + Shay   \n",
       "1  e0140a67-e4d1-4f13-8a01-364355bee46e  Justin Bieber   \n",
       "\n",
       "                                               track_url  track_popularity  \\\n",
       "0  https://open.spotify.com/track/2wrJq5XKLnmhRXHIAf9xBa                89   \n",
       "1  https://open.spotify.com/track/2wrJq5XKLnmhRXHIAf9xBa                89   \n",
       "\n",
       "   track_duration_ms  track_is_local                 albumID  \\\n",
       "0             167693           False  4ow6xJwn49gpWz7iHpOzWY   \n",
       "1             167693           False  4ow6xJwn49gpWz7iHpOzWY   \n",
       "\n",
       "   album_track_number album_release_date album_type  \n",
       "0                   1         2019-10-04     single  \n",
       "1                   1         2019-10-04     single  "
      ]
     },
     "execution_count": 19,
     "metadata": {},
     "output_type": "execute_result"
    }
   ],
   "source": [
    "df_track = get_Track_Info('2wrJq5XKLnmhRXHIAf9xBa')\n",
    "pd.set_option('display.max_colwidth', None)\n",
    "df_track.head()\n"
   ]
  },
  {
   "cell_type": "code",
   "execution_count": null,
   "metadata": {
    "scrolled": true
   },
   "outputs": [],
   "source": [
    "import numpy as np\n",
    "j = 0   \n",
    "cols = ['track_spotifyID', 'artist_spotifyID','artist_mbid','artist_name','track_url','track_popularity',\n",
    "        'track_duration_ms','track_is_local','albumID', 'album_track_number','album_release_date','album_type']\n",
    "df_track_details = pd.DataFrame(columns=cols)\n",
    "for x, value in np.ndenumerate(unique_spotifyID[:2]):\n",
    "    j += 1\n",
    "    df_t = get_Track_Info(value)\n",
    "    if not df_t.empty:\n",
    "        #print(df_t.head())\n",
    "        df_track_details = df_track_details.append(df_t, ignore_index=True)\n",
    "        print(str(j) + '===>' + value)\n",
    "    "
   ]
  },
  {
   "cell_type": "code",
   "execution_count": null,
   "metadata": {},
   "outputs": [],
   "source": [
    "#generate csv file\n",
    "pandasToCSV(df_track_details, 'spotify_track_details')"
   ]
  },
  {
   "cell_type": "code",
   "execution_count": 20,
   "metadata": {},
   "outputs": [
    {
     "data": {
      "text/html": [
       "<div>\n",
       "<style scoped>\n",
       "    .dataframe tbody tr th:only-of-type {\n",
       "        vertical-align: middle;\n",
       "    }\n",
       "\n",
       "    .dataframe tbody tr th {\n",
       "        vertical-align: top;\n",
       "    }\n",
       "\n",
       "    .dataframe thead tr th {\n",
       "        text-align: left;\n",
       "    }\n",
       "\n",
       "    .dataframe thead tr:last-of-type th {\n",
       "        text-align: right;\n",
       "    }\n",
       "</style>\n",
       "<table border=\"1\" class=\"dataframe\">\n",
       "  <thead>\n",
       "    <tr>\n",
       "      <th></th>\n",
       "      <th>track_spotifyID</th>\n",
       "    </tr>\n",
       "    <tr>\n",
       "      <th></th>\n",
       "      <th>count</th>\n",
       "    </tr>\n",
       "    <tr>\n",
       "      <th>artist_spotifyID</th>\n",
       "      <th></th>\n",
       "    </tr>\n",
       "  </thead>\n",
       "  <tbody>\n",
       "    <tr>\n",
       "      <th>00CMSJdbf36zOzKB3z8JrR</th>\n",
       "      <td>1</td>\n",
       "    </tr>\n",
       "    <tr>\n",
       "      <th>00FQb4jTyendYWaN8pK0wa</th>\n",
       "      <td>14</td>\n",
       "    </tr>\n",
       "    <tr>\n",
       "      <th>00TKPo9MxwZ0j4ooveIxWZ</th>\n",
       "      <td>1</td>\n",
       "    </tr>\n",
       "    <tr>\n",
       "      <th>00XhexlJEXQstHimpZN910</th>\n",
       "      <td>3</td>\n",
       "    </tr>\n",
       "    <tr>\n",
       "      <th>00me4Ke1LsvMxt5kydlMyU</th>\n",
       "      <td>1</td>\n",
       "    </tr>\n",
       "  </tbody>\n",
       "</table>\n",
       "</div>"
      ],
      "text/plain": [
       "                       track_spotifyID\n",
       "                                 count\n",
       "artist_spotifyID                      \n",
       "00CMSJdbf36zOzKB3z8JrR               1\n",
       "00FQb4jTyendYWaN8pK0wa              14\n",
       "00TKPo9MxwZ0j4ooveIxWZ               1\n",
       "00XhexlJEXQstHimpZN910               3\n",
       "00me4Ke1LsvMxt5kydlMyU               1"
      ]
     },
     "execution_count": 20,
     "metadata": {},
     "output_type": "execute_result"
    }
   ],
   "source": [
    "import pandas as pd\n",
    "df_track_details = pd.read_csv('../datasets/spotify_track_details.csv')\n",
    "#df_track_details.head(20)\n",
    "#df_filtered = df_track_details[(df_track_details.track_is_local == False) & (df_track_details.track_popularity > 95)]\n",
    "df_unique_artist = df_track_details[['artist_spotifyID','track_spotifyID']].groupby(['artist_spotifyID']).agg(['count'])\n",
    "df_unique_artist.head()"
   ]
  },
  {
   "cell_type": "code",
   "execution_count": null,
   "metadata": {},
   "outputs": [],
   "source": [
    "df_filtered = df_track_details[(df_track_details.artist_mbid != '')]\n",
    "\n",
    "df_null_mbid = df_track_details[df_track_details['artist_mbid'].isnull()]\n",
    "df_null_mbid.sort_values('artist_spotifyID', ascending = True).tail(20)"
   ]
  },
  {
   "cell_type": "code",
   "execution_count": null,
   "metadata": {},
   "outputs": [],
   "source": [
    "df_null = df_null_mbid[['artist_spotifyID','track_spotifyID']].groupby(['artist_spotifyID']).agg(['count'])\n",
    "df_null.head(10)\n",
    "\n"
   ]
  },
  {
   "cell_type": "code",
   "execution_count": null,
   "metadata": {},
   "outputs": [],
   "source": [
    "df_weeklyTop200.head(10)"
   ]
  },
  {
   "cell_type": "code",
   "execution_count": null,
   "metadata": {},
   "outputs": [],
   "source": [
    "gkk = df_weeklyTop200[['region', 'Artist', 'spotify_id']].groupby(['region','Artist']).agg(['count'])#.sort_values('count', ascending=False)\n",
    "gkk.head()"
   ]
  },
  {
   "cell_type": "code",
   "execution_count": null,
   "metadata": {},
   "outputs": [],
   "source": [
    "with pd.option_context('precision', 2):\n",
    "    display(df_weeklyTop200.groupby(['region', 'Artist'])\n",
    "               .describe(include='all')\n",
    "               .dropna(how='all', axis=1))"
   ]
  }
 ],
 "metadata": {
  "kernelspec": {
   "display_name": "Python 3",
   "language": "python",
   "name": "python3"
  },
  "language_info": {
   "codemirror_mode": {
    "name": "ipython",
    "version": 3
   },
   "file_extension": ".py",
   "mimetype": "text/x-python",
   "name": "python",
   "nbconvert_exporter": "python",
   "pygments_lexer": "ipython3",
   "version": "3.7.6"
  }
 },
 "nbformat": 4,
 "nbformat_minor": 4
}
