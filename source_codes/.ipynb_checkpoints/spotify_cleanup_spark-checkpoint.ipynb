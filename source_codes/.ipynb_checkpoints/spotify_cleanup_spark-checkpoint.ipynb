{
 "cells": [
  {
   "cell_type": "markdown",
   "metadata": {},
   "source": [
    "# Data Cleansing for Spotify Dataset"
   ]
  },
  {
   "cell_type": "code",
   "execution_count": 1,
   "metadata": {},
   "outputs": [],
   "source": [
    "#sc.stop()\n",
    "import findspark\n",
    "findspark.init()\n",
    "findspark.find()\n",
    "import pyspark\n",
    "from pyspark import SparkContext, SparkConf\n",
    "from pyspark.sql import SparkSession\n",
    "conf = pyspark.SparkConf().setAppName('appName').setMaster('local')\n",
    "#conf = pyspark.SparkConf().setAppName('appName').setMaster('spark://192.168.11.128:8080')\n",
    "\n",
    "sc = pyspark.SparkContext(conf=conf)\n",
    "spark = SparkSession(sc)"
   ]
  },
  {
   "cell_type": "code",
   "execution_count": 2,
   "metadata": {},
   "outputs": [],
   "source": [
    "df_weeklyTop200 = spark.read.csv('../datasets/spotify_top_200_weekly.csv', header=True)\n",
    "df_track_details = spark.read.csv('../datasets/spotify_track_details.csv', header=True)\n",
    "df_artists = spark.read.csv('../datasets/kaggle_artists.csv', header=True)"
   ]
  },
  {
   "cell_type": "code",
   "execution_count": null,
   "metadata": {},
   "outputs": [],
   "source": [
    "df_artists.count()"
   ]
  },
  {
   "cell_type": "code",
   "execution_count": null,
   "metadata": {},
   "outputs": [],
   "source": [
    "df_weeklyTop200.show()"
   ]
  },
  {
   "cell_type": "code",
   "execution_count": null,
   "metadata": {},
   "outputs": [],
   "source": [
    "df_weeklyTop200.info()"
   ]
  },
  {
   "cell_type": "code",
   "execution_count": null,
   "metadata": {},
   "outputs": [],
   "source": [
    "#df_weeklyTop200['Start_Date'] = df_weeklyTop200.apply(lambda row: row.date[:10],row.date[10:] axis = 1) \n",
    "df_weeklyTop200.describe(include='all')\n",
    "#df_weeklyTop200.describe()\n",
    "\n"
   ]
  },
  {
   "cell_type": "code",
   "execution_count": null,
   "metadata": {},
   "outputs": [],
   "source": [
    "df_weeklyTop200['date']"
   ]
  },
  {
   "cell_type": "code",
   "execution_count": null,
   "metadata": {},
   "outputs": [],
   "source": [
    "#import pyspark.sql.functions as F"
   ]
  },
  {
   "cell_type": "code",
   "execution_count": 3,
   "metadata": {},
   "outputs": [
    {
     "name": "stdout",
     "output_type": "stream",
     "text": [
      "+--------+--------------------+-------------+-------+--------------------+------+--------------------+----------+----------+\n",
      "|Position|          Track Name|       Artist|Streams|                date|region|          spotify_id|start_date|  end_date|\n",
      "+--------+--------------------+-------------+-------+--------------------+------+--------------------+----------+----------+\n",
      "|       1|   Someone You Loved|Lewis Capaldi|3338234|2019-03-01--2019-...|    gb|2TIlqbIneP0ZY1O0E...|2019-03-01|2019-03-08|\n",
      "|       2|break up with you...|Ariana Grande|3041558|2019-03-01--2019-...|    gb|4kV4N9D1iKVxx1KLv...|2019-03-01|2019-03-08|\n",
      "+--------+--------------------+-------------+-------+--------------------+------+--------------------+----------+----------+\n",
      "only showing top 2 rows\n",
      "\n"
     ]
    }
   ],
   "source": [
    "from pyspark.sql.functions import col, split\n",
    "df_weeklyTop200 = df_weeklyTop200.withColumn(\"start_date\", split(col(\"date\"), \"--\").getItem(0)).withColumn(\"end_date\", split(col(\"date\"), \"--\").getItem(1))\n",
    "\n",
    "df_weeklyTop200.show(2)\n",
    "#df_weeklyTop200[['start_date', 'end_date']] = df_weeklyTop200.date #.str.split('--', expand=True)\n",
    "#df_weeklyTop200"
   ]
  },
  {
   "cell_type": "code",
   "execution_count": null,
   "metadata": {},
   "outputs": [],
   "source": [
    "#df_weeklyTop200.distinct().show()\n",
    "df_weeklyTop200.select('Artist').distinct().count()"
   ]
  },
  {
   "cell_type": "code",
   "execution_count": null,
   "metadata": {},
   "outputs": [],
   "source": [
    "df_weeklyTop200.select('*').describe()"
   ]
  },
  {
   "cell_type": "markdown",
   "metadata": {},
   "source": [
    "## Clean up the track_details data\n",
    "### Lookup missing mb_id in the in the kaggle dataset"
   ]
  },
  {
   "cell_type": "code",
   "execution_count": 5,
   "metadata": {},
   "outputs": [
    {
     "data": {
      "text/plain": [
       "629"
      ]
     },
     "execution_count": 5,
     "metadata": {},
     "output_type": "execute_result"
    }
   ],
   "source": [
    "#get all rows with no mb_id\n",
    "\n",
    "df_null_mbid = df_track_details.filter(df_track_details.artist_mbid.isNull())\n",
    "df_null_mbid.count()\n"
   ]
  },
  {
   "cell_type": "code",
   "execution_count": 6,
   "metadata": {},
   "outputs": [
    {
     "data": {
      "text/plain": [
       "0"
      ]
     },
     "execution_count": 6,
     "metadata": {},
     "output_type": "execute_result"
    }
   ],
   "source": [
    "#check if any row has no artist name\n",
    "df_null_mbid.filter(df_null_mbid.artist_name.isNull()).count()\n"
   ]
  },
  {
   "cell_type": "code",
   "execution_count": 16,
   "metadata": {},
   "outputs": [
    {
     "data": {
      "text/plain": [
       "275"
      ]
     },
     "execution_count": 16,
     "metadata": {},
     "output_type": "execute_result"
    }
   ],
   "source": [
    "#get unique rows with artist_name to avoid expensive join\n",
    "df_unique_artist = df_null_mbid.dropDuplicates(['artist_name'])\n",
    "df_unique_artist.count()"
   ]
  },
  {
   "cell_type": "code",
   "execution_count": 8,
   "metadata": {},
   "outputs": [],
   "source": [
    "from pyspark.sql.functions import levenshtein "
   ]
  },
  {
   "cell_type": "code",
   "execution_count": null,
   "metadata": {},
   "outputs": [],
   "source": [
    "newDF=df_unique_artist.join(df_artists,levenshtein(df_unique_artist['artist_name'], df_artists['artist_mb']) < 1, 'leftouter')"
   ]
  },
  {
   "cell_type": "code",
   "execution_count": null,
   "metadata": {},
   "outputs": [],
   "source": [
    "newDF.count()"
   ]
  },
  {
   "cell_type": "code",
   "execution_count": null,
   "metadata": {},
   "outputs": [],
   "source": [
    "#print(newDF.count())\n",
    "newDF[['artist_name','mbid', 'artist_mb']].show()"
   ]
  },
  {
   "cell_type": "code",
   "execution_count": null,
   "metadata": {},
   "outputs": [],
   "source": [
    "#from fuzzywuzzy import fuzz"
   ]
  },
  {
   "cell_type": "code",
   "execution_count": null,
   "metadata": {},
   "outputs": [],
   "source": [
    "#fuzz.token_sort_ratio(Str1,Str2)\n",
    "#newDF=df_unique_artist.join(df_artists,fuzz.token_sort_ratio(df_unique_artist['artist_name'], df_artists['artist_mb']) > 90, 'left_semi')"
   ]
  },
  {
   "cell_type": "code",
   "execution_count": 9,
   "metadata": {},
   "outputs": [],
   "source": [
    "df_musicbrainz_artist = spark.read.csv('../datasets/musicBrainz_ActiveArtists.csv', header=True)"
   ]
  },
  {
   "cell_type": "code",
   "execution_count": 10,
   "metadata": {},
   "outputs": [
    {
     "name": "stdout",
     "output_type": "stream",
     "text": [
      "+--------------------+-----------+------------+-----+\n",
      "|                 gid|       name|   sort_name|ended|\n",
      "+--------------------+-----------+------------+-----+\n",
      "|8972b1c1-6482-475...|      WIK▲N|       WIK▲N|False|\n",
      "|49add228-eac5-4de...|Pete Moutso|Moutso, Pete|False|\n",
      "+--------------------+-----------+------------+-----+\n",
      "only showing top 2 rows\n",
      "\n"
     ]
    }
   ],
   "source": [
    "df_musicbrainz_artist.show(2)"
   ]
  },
  {
   "cell_type": "code",
   "execution_count": 17,
   "metadata": {},
   "outputs": [
    {
     "data": {
      "text/plain": [
       "1394800"
      ]
     },
     "execution_count": 17,
     "metadata": {},
     "output_type": "execute_result"
    }
   ],
   "source": [
    "#get unique rows with artist_name to avoid expensive join\n",
    "df_unique_musicbrainz_artist = df_musicbrainz_artist.dropDuplicates(['sort_name'])\n",
    "df_unique_musicbrainz_artist.count()\n"
   ]
  },
  {
   "cell_type": "code",
   "execution_count": 24,
   "metadata": {},
   "outputs": [],
   "source": [
    "newDF=df_unique_artist.join(df_unique_musicbrainz_artist,levenshtein(df_unique_artist['artist_name'], df_unique_musicbrainz_artist['sort_name']) < 2, 'left')"
   ]
  },
  {
   "cell_type": "code",
   "execution_count": 22,
   "metadata": {},
   "outputs": [
    {
     "data": {
      "text/plain": [
       "275"
      ]
     },
     "execution_count": 22,
     "metadata": {},
     "output_type": "execute_result"
    }
   ],
   "source": [
    "newDF.count()"
   ]
  },
  {
   "cell_type": "code",
   "execution_count": 25,
   "metadata": {},
   "outputs": [
    {
     "data": {
      "text/plain": [
       "84"
      ]
     },
     "execution_count": 25,
     "metadata": {},
     "output_type": "execute_result"
    }
   ],
   "source": [
    "newDF.filter(newDF.gid.isNull()).count()"
   ]
  },
  {
   "cell_type": "code",
   "execution_count": 21,
   "metadata": {},
   "outputs": [
    {
     "name": "stdout",
     "output_type": "stream",
     "text": [
      "+--------------------+--------------------+--------------------+\n",
      "|         artist_name|                 gid|           sort_name|\n",
      "+--------------------+--------------------+--------------------+\n",
      "|              Brando|d5620c9c-220e-477...|              Brando|\n",
      "|               Cadet|c872f796-1497-49d...|               Cadet|\n",
      "|           CamelPhat|61314ff2-7b52-429...|           CamelPhat|\n",
      "|      D-Block Europe|3325cdfa-8efc-466...|      D-Block Europe|\n",
      "|                Deno|eb6af86f-4533-419...|                Deno|\n",
      "|               Fredo|de67fa7b-9910-4a5...|               Fredo|\n",
      "|               Giggs|c2beec92-0560-4fd...|               Giggs|\n",
      "|         Loud Luxury|4c445344-9df2-407...|         Loud Luxury|\n",
      "|                 NSG|ecebea6a-c064-440...|                 NSG|\n",
      "|               Not3s|ef572aef-6d79-493...|               Not3s|\n",
      "|           Sheck Wes|07ab04d4-bdbc-4c9...|           Sheck Wes|\n",
      "|              Swarmz|59466d51-6806-41d...|              Swarmz|\n",
      "|               Tainy|7e92584c-ca97-48b...|               Tainy|\n",
      "|The Greatest Show...|5ba16458-8eb3-407...|The Greatest Show...|\n",
      "|          Tion Wayne|016fcdc6-e7fa-427...|          Tion Wayne|\n",
      "|             Zendaya|5b946a83-b395-401...|             Zendaya|\n",
      "|      Rag'n'Bone Man|                null|                null|\n",
      "|      Bradley Cooper|                null|                null|\n",
      "|           Yxng Bane|                null|                null|\n",
      "|     Michael Phantom|                null|                null|\n",
      "+--------------------+--------------------+--------------------+\n",
      "only showing top 20 rows\n",
      "\n"
     ]
    }
   ],
   "source": [
    "newDF[['artist_name','gid', 'sort_name']].show()"
   ]
  }
 ],
 "metadata": {
  "kernelspec": {
   "display_name": "Python 3",
   "language": "python",
   "name": "python3"
  },
  "language_info": {
   "codemirror_mode": {
    "name": "ipython",
    "version": 3
   },
   "file_extension": ".py",
   "mimetype": "text/x-python",
   "name": "python",
   "nbconvert_exporter": "python",
   "pygments_lexer": "ipython3",
   "version": "3.7.6"
  }
 },
 "nbformat": 4,
 "nbformat_minor": 4
}
