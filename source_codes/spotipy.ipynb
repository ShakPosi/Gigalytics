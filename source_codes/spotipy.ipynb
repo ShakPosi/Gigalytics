{
 "cells": [
  {
   "cell_type": "markdown",
   "metadata": {},
   "source": [
    "# Spotify "
   ]
  },
  {
   "cell_type": "code",
   "execution_count": 1,
   "metadata": {},
   "outputs": [],
   "source": [
    "#https://github.com/plamere/spotipy/tree/master/examples\n",
    "\n",
    "import sys\n",
    "import spotipy\n",
    "from spotipy.oauth2 import SpotifyClientCredentials\n",
    "import spotipy.util as util\n",
    "\n",
    "SPOTIPY_CLIENT_ID='af7f8c950718423794701bd8cf073d76'\n",
    "SPOTIPY_CLIENT_SECRET='35f74d86eb5745c394f46b22ed40a9c4'\n",
    "\n",
    "#Mahyar\n",
    "SPOTIPY_CLIENT_ID='cf10232b7c464964b989b45aa956eef4'\n",
    "SPOTIPY_CLIENT_SECRET='ceb6022282354d7082e7055fdda4c647'\n",
    "\n",
    "client_credentials_manager = SpotifyClientCredentials(client_id=SPOTIPY_CLIENT_ID, client_secret=SPOTIPY_CLIENT_SECRET)\n",
    "sp = spotipy.Spotify(client_credentials_manager=client_credentials_manager)\n",
    "\n",
    "#remember to reference this project https://github.com/metabrainz/mbspotify\n",
    "import spotify2musicbrainz as mbSpot\n",
    "#remember to reference this project - https://github.com/kelvingakuo/fycharts\n",
    "from fycharts import SpotifyCharts, compute_dates, write_to_outputs"
   ]
  },
  {
   "cell_type": "code",
   "execution_count": 2,
   "metadata": {},
   "outputs": [
    {
     "data": {
      "text/plain": [
       "['gb']"
      ]
     },
     "execution_count": 2,
     "metadata": {},
     "output_type": "execute_result"
    }
   ],
   "source": [
    "#weeklyDates = compute_dates.whatDates('2019-03-01', '2020-02-29', 'top200Weekly')\n",
    "#weeklyDates = compute_dates.defaultListOfDates('isWeekly', 'isViral')\n",
    "DatesAndRegions = compute_dates.returnDatesAndRegions('2019-03-01', '2020-02-29',theRegs=['gb'], isWeekly=True)\n",
    "\n",
    "\n",
    "weeklyDates = DatesAndRegions['dates']\n",
    "region = DatesAndRegions['region']\n",
    "region"
   ]
  },
  {
   "cell_type": "code",
   "execution_count": 3,
   "metadata": {
    "scrolled": true
   },
   "outputs": [],
   "source": [
    "from fycharts.SpotifyCharts import SpotifyCharts\n",
    "api = SpotifyCharts()\n"
   ]
  },
  {
   "cell_type": "markdown",
   "metadata": {},
   "source": [
    "## fychart api top200weekly pools charts data from spotifycharts.com"
   ]
  },
  {
   "cell_type": "code",
   "execution_count": 11,
   "metadata": {},
   "outputs": [],
   "source": [
    "import os\n",
    "def pandasToCSV(df, ds): \n",
    "    \n",
    "   \n",
    "    #dt = datetime.today().strftime('%Y%m%d%H%M%S') #%H:%M:%S\n",
    "    csv_filename = \"../datasets/\" + ds+\".csv\"    \n",
    "    #../datasets/\n",
    "    # if file does not exist write header \n",
    "    if not os.path.isfile(csv_filename):\n",
    "        #df.to_csv('filename.csv', header='column_names')\n",
    "        df.to_csv(csv_filename, encoding='utf-8', index=False)   \n",
    "    else: # else if exists, append without the header\n",
    "        df.to_csv(csv_filename, mode='a', header=False, index=False)"
   ]
  },
  {
   "cell_type": "code",
   "execution_count": 4,
   "metadata": {},
   "outputs": [
    {
     "name": "stderr",
     "output_type": "stream",
     "text": [
      "INFO : 20/03/2020 06:21:03 PM : Extracting top 200 weekly for 2020-03-06--2020-03-13 - gb\n",
      "INFO : 20/03/2020 06:21:04 PM : Extracting top 200 weekly for 2020-03-06--2020-03-13 - global\n",
      "INFO : 20/03/2020 06:21:04 PM : Appending data to the file ../datasets/march2020/top_200_weekly.csv...\n",
      "INFO : 20/03/2020 06:21:04 PM : Done appending to the file ../datasets/march2020/top_200_weekly.csv!!!\n",
      "INFO : 20/03/2020 06:21:06 PM : Appending data to the file ../datasets/march2020/top_200_weekly.csv...\n",
      "INFO : 20/03/2020 06:21:06 PM : Done appending to the file ../datasets/march2020/top_200_weekly.csv!!!\n"
     ]
    }
   ],
   "source": [
    "#Run only when you want to fetch new date range\n",
    "#api.top200Weekly(output_file = \"../datasets/top_200_weekly.csv\", start = \"2019-03-01\", end = \"2020-02-29\", region = [\"gb\", \"global\"])"
   ]
  },
  {
   "cell_type": "code",
   "execution_count": 9,
   "metadata": {},
   "outputs": [
    {
     "data": {
      "text/html": [
       "<div>\n",
       "<style scoped>\n",
       "    .dataframe tbody tr th:only-of-type {\n",
       "        vertical-align: middle;\n",
       "    }\n",
       "\n",
       "    .dataframe tbody tr th {\n",
       "        vertical-align: top;\n",
       "    }\n",
       "\n",
       "    .dataframe thead th {\n",
       "        text-align: right;\n",
       "    }\n",
       "</style>\n",
       "<table border=\"1\" class=\"dataframe\">\n",
       "  <thead>\n",
       "    <tr style=\"text-align: right;\">\n",
       "      <th></th>\n",
       "      <th>Position</th>\n",
       "      <th>Track Name</th>\n",
       "      <th>Artist</th>\n",
       "      <th>Streams</th>\n",
       "      <th>date</th>\n",
       "      <th>region</th>\n",
       "      <th>spotify_id</th>\n",
       "    </tr>\n",
       "  </thead>\n",
       "  <tbody>\n",
       "    <tr>\n",
       "      <th>0</th>\n",
       "      <td>1</td>\n",
       "      <td>Someone You Loved</td>\n",
       "      <td>Lewis Capaldi</td>\n",
       "      <td>3338234</td>\n",
       "      <td>2019-03-01--2019-03-08</td>\n",
       "      <td>gb</td>\n",
       "      <td>2TIlqbIneP0ZY1O0EzYLlc</td>\n",
       "    </tr>\n",
       "    <tr>\n",
       "      <th>1</th>\n",
       "      <td>2</td>\n",
       "      <td>break up with your girlfriend, i'm bored</td>\n",
       "      <td>Ariana Grande</td>\n",
       "      <td>3041558</td>\n",
       "      <td>2019-03-01--2019-03-08</td>\n",
       "      <td>gb</td>\n",
       "      <td>4kV4N9D1iKVxx1KLvtTpjS</td>\n",
       "    </tr>\n",
       "    <tr>\n",
       "      <th>2</th>\n",
       "      <td>3</td>\n",
       "      <td>Giant (with Rag'n'Bone Man)</td>\n",
       "      <td>Calvin Harris</td>\n",
       "      <td>2846784</td>\n",
       "      <td>2019-03-01--2019-03-08</td>\n",
       "      <td>gb</td>\n",
       "      <td>5itOtNx0WxtJmi1TQ3RuRd</td>\n",
       "    </tr>\n",
       "    <tr>\n",
       "      <th>3</th>\n",
       "      <td>4</td>\n",
       "      <td>7 rings</td>\n",
       "      <td>Ariana Grande</td>\n",
       "      <td>2836252</td>\n",
       "      <td>2019-03-01--2019-03-08</td>\n",
       "      <td>gb</td>\n",
       "      <td>6ocbgoVGwYJhOv1GgI9NsF</td>\n",
       "    </tr>\n",
       "    <tr>\n",
       "      <th>4</th>\n",
       "      <td>5</td>\n",
       "      <td>Don't Call Me Up</td>\n",
       "      <td>Mabel</td>\n",
       "      <td>2783485</td>\n",
       "      <td>2019-03-01--2019-03-08</td>\n",
       "      <td>gb</td>\n",
       "      <td>5WHTFyqSii0lmT9R21abT8</td>\n",
       "    </tr>\n",
       "  </tbody>\n",
       "</table>\n",
       "</div>"
      ],
      "text/plain": [
       "   Position                                Track Name         Artist  Streams  \\\n",
       "0         1                         Someone You Loved  Lewis Capaldi  3338234   \n",
       "1         2  break up with your girlfriend, i'm bored  Ariana Grande  3041558   \n",
       "2         3               Giant (with Rag'n'Bone Man)  Calvin Harris  2846784   \n",
       "3         4                                   7 rings  Ariana Grande  2836252   \n",
       "4         5                          Don't Call Me Up          Mabel  2783485   \n",
       "\n",
       "                     date region              spotify_id  \n",
       "0  2019-03-01--2019-03-08     gb  2TIlqbIneP0ZY1O0EzYLlc  \n",
       "1  2019-03-01--2019-03-08     gb  4kV4N9D1iKVxx1KLvtTpjS  \n",
       "2  2019-03-01--2019-03-08     gb  5itOtNx0WxtJmi1TQ3RuRd  \n",
       "3  2019-03-01--2019-03-08     gb  6ocbgoVGwYJhOv1GgI9NsF  \n",
       "4  2019-03-01--2019-03-08     gb  5WHTFyqSii0lmT9R21abT8  "
      ]
     },
     "execution_count": 9,
     "metadata": {},
     "output_type": "execute_result"
    }
   ],
   "source": [
    "#generate csv file\n",
    "import pandas as pd\n",
    "#use pandas to read file and save it again to remove blank lines\n",
    "df_weeklyTop200 = pd.read_csv('../datasets/top_200_weekly.csv')\n",
    "pandasToCSV(df_weeklyTop200, 'spotify_top_200_weekly')\n"
   ]
  },
  {
   "cell_type": "code",
   "execution_count": 10,
   "metadata": {},
   "outputs": [],
   "source": []
  },
  {
   "cell_type": "code",
   "execution_count": null,
   "metadata": {
    "scrolled": true
   },
   "outputs": [],
   "source": [
    "df_gb_WeeklyTop200 =  df_weeklyTop200[df_weeklyTop200['region']== 'gb']\n",
    "df_gb_WeeklyTop200.tail(100)"
   ]
  },
  {
   "cell_type": "code",
   "execution_count": null,
   "metadata": {},
   "outputs": [],
   "source": [
    "unique_uk_spotifyID = pd.unique(df_gb_WeeklyTop200[['spotify_id']].values.ravel('K'))\n",
    "len(unique_uk_spotifyID)"
   ]
  },
  {
   "cell_type": "code",
   "execution_count": null,
   "metadata": {},
   "outputs": [],
   "source": [
    "unique_spotifyID = pd.unique(df_weeklyTop200[['spotify_id']].values.ravel('K'))\n",
    "len(unique_spotifyID)\n"
   ]
  },
  {
   "cell_type": "code",
   "execution_count": null,
   "metadata": {},
   "outputs": [],
   "source": [
    "mb_id = mbSpot.get_artist_mbid('5K4W6rqBFWDnAN6FQUkS6x')\n",
    "print(mb_id)\n",
    "mbSpot.make_spotify_url('2wrJq5XKLnmhRXHIAf9xBa', spotify_type='track')\n"
   ]
  },
  {
   "cell_type": "code",
   "execution_count": null,
   "metadata": {},
   "outputs": [],
   "source": [
    "track = sp.track('2wrJq5XKLnmhRXHIAf9xBa')\n",
    "#2TIlqbIneP0ZY1O0EzYLlc\n",
    "#4S8d14HvHb70ImctNgVzQQ\n",
    "#df_track = pd.DataFrame(track)\n",
    "df_track = pd.DataFrame(track['artists'])\n",
    "df_track.head()\n",
    "track['popularity']\n",
    "#track['release_date_precision']\n",
    "str(track['popularity']) +' ==> ' + track['name'] + ' is_local= ' + str(track['is_local'] )\n",
    "str(track['album']['release_date'])\n",
    "str(track['album']['album_type'])\n",
    "\n",
    "#str(track['album']['id'])\n",
    "#track['duration_ms']\n",
    "#track['track_number']\n",
    "\n",
    "#track"
   ]
  },
  {
   "cell_type": "code",
   "execution_count": null,
   "metadata": {},
   "outputs": [],
   "source": [
    "def get_Track_Info(trackID):\n",
    "    #df_track = pd.DataFrame(columns = ['track_spotifyID', 'id', 'name', 'artist_mbid'])\n",
    "    \n",
    "    try:\n",
    "        track = sp.track(trackID)   \n",
    "        df_track = pd.DataFrame(track['artists'])  \n",
    "        df_track = df_track.assign(track_spotifyID = trackID)\n",
    "        df_track = df_track.assign(artist_spotifyID = df_track['id'])\n",
    "        df_track = df_track.assign(artist_mbid = get_Artist_mbid(df_track))          \n",
    "        df_track = df_track.assign(artist_name = df_track['name'])        \n",
    "        df_track = df_track.assign(track_url = mbSpot.make_spotify_url(trackID, spotify_type='track'))     \n",
    "        \n",
    "        df_track = df_track.assign(track_popularity = track['popularity'])\n",
    "        df_track = df_track.assign(track_duration_ms = track['duration_ms'])\n",
    "        df_track = df_track.assign(track_is_local = track['is_local'])        \n",
    "        df_track = df_track.assign(albumID = track['album']['id'])\n",
    "        df_track = df_track.assign(album_track_number = track['track_number'])\n",
    "        df_track = df_track.assign(album_release_date = track['album']['release_date'])\n",
    "        df_track = df_track.assign(album_type = track['album']['album_type'])        \n",
    "       \n",
    "        df_track.drop(['external_urls','href', 'id', 'name', 'type', 'uri'], axis=1, inplace=True)\n",
    "\n",
    "        #df_track = df_track[['track_spotifyID','track_url', 'id', 'name', 'artist_mbid']]\n",
    "    except:\n",
    "        df_track = pd.DataFrame(columns = ['track_spotifyID'])\n",
    "\n",
    "    return df_track"
   ]
  },
  {
   "cell_type": "code",
   "execution_count": null,
   "metadata": {},
   "outputs": [],
   "source": [
    "#remember to reference this project https://github.com/metabrainz/mbspotify\n",
    "import spotify2musicbrainz as mbSpot\n",
    "def get_Artist_mbid(df_artist):\n",
    "    ls_mbid=[]\n",
    "    for index, row in df_artist.iterrows(): \n",
    "        ls_mbid.append(mbSpot.get_artist_mbid(row['id']))\n",
    "        \n",
    "    return ls_mbid\n",
    "    "
   ]
  },
  {
   "cell_type": "code",
   "execution_count": null,
   "metadata": {
    "scrolled": true
   },
   "outputs": [],
   "source": [
    "df_track = get_Track_Info('2wrJq5XKLnmhRXHIAf9xBa')\n",
    "pd.set_option('display.max_colwidth', None)\n",
    "df_track.head()\n"
   ]
  },
  {
   "cell_type": "code",
   "execution_count": null,
   "metadata": {
    "scrolled": true
   },
   "outputs": [],
   "source": [
    "import numpy as np\n",
    "j = 0   \n",
    "cols = ['track_spotifyID', 'artist_spotifyID','artist_mbid','artist_name','track_url','track_popularity',\n",
    "        'track_duration_ms','track_is_local','albumID', 'album_track_number','album_release_date','album_type']\n",
    "df_track_details = pd.DataFrame(columns=cols)\n",
    "for x, value in np.ndenumerate(unique_spotifyID[:2]):\n",
    "    j += 1\n",
    "    df_t = get_Track_Info(value)\n",
    "    if not df_t.empty:\n",
    "        #print(df_t.head())\n",
    "        df_track_details = df_track_details.append(df_t, ignore_index=True)\n",
    "        print(str(j) + '===>' + value)\n",
    "    "
   ]
  },
  {
   "cell_type": "code",
   "execution_count": null,
   "metadata": {},
   "outputs": [],
   "source": [
    "#generate csv file\n",
    "pandasToCSV(df_track_details, 'spotify_track_details_2')"
   ]
  },
  {
   "cell_type": "code",
   "execution_count": null,
   "metadata": {},
   "outputs": [],
   "source": [
    "import pandas as pd\n",
    "df_track_details = pd.read_csv('data/spotify_dataset/spotify_track_details.csv')\n",
    "#df_track_details.head(20)\n",
    "#df_filtered = df_track_details[(df_track_details.track_is_local == False) & (df_track_details.track_popularity > 95)]\n",
    "df_unique_artist = df_track_details[['artist_spotifyID','track_spotifyID']].groupby(['artist_spotifyID']).agg(['count'])\n",
    "df_unique_artist.head()"
   ]
  },
  {
   "cell_type": "code",
   "execution_count": null,
   "metadata": {},
   "outputs": [],
   "source": [
    "df_filtered = df_track_details[(df_track_details.artist_mbid != '')]\n",
    "\n",
    "df_null_mbid = df_track_details[df_track_details['artist_mbid'].isnull()]\n",
    "df_null_mbid.sort_values('artist_spotifyID', ascending = True).tail(20)"
   ]
  },
  {
   "cell_type": "code",
   "execution_count": null,
   "metadata": {},
   "outputs": [],
   "source": [
    "df_null = df_null_mbid[['artist_spotifyID','track_spotifyID']].groupby(['artist_spotifyID']).agg(['count'])\n",
    "df_null.head(10)\n",
    "\n"
   ]
  },
  {
   "cell_type": "code",
   "execution_count": null,
   "metadata": {},
   "outputs": [],
   "source": [
    "df_weeklyTop200.head(10)"
   ]
  },
  {
   "cell_type": "code",
   "execution_count": null,
   "metadata": {},
   "outputs": [],
   "source": [
    "gkk = df_weeklyTop200[['region', 'Artist', 'spotify_id']].groupby(['region','Artist']).agg(['count'])#.sort_values('count', ascending=False)\n",
    "gkk.head()"
   ]
  },
  {
   "cell_type": "code",
   "execution_count": null,
   "metadata": {},
   "outputs": [],
   "source": [
    "with pd.option_context('precision', 2):\n",
    "    display(df_weeklyTop200.groupby(['region', 'Artist'])\n",
    "               .describe(include='all')\n",
    "               .dropna(how='all', axis=1))"
   ]
  }
 ],
 "metadata": {
  "kernelspec": {
   "display_name": "Python 3",
   "language": "python",
   "name": "python3"
  },
  "language_info": {
   "codemirror_mode": {
    "name": "ipython",
    "version": 3
   },
   "file_extension": ".py",
   "mimetype": "text/x-python",
   "name": "python",
   "nbconvert_exporter": "python",
   "pygments_lexer": "ipython3",
   "version": "3.7.6"
  }
 },
 "nbformat": 4,
 "nbformat_minor": 4
}
